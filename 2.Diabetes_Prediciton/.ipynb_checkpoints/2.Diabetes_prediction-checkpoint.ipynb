{
 "cells": [
  {
   "cell_type": "code",
   "execution_count": 1,
   "id": "11a3225a",
   "metadata": {},
   "outputs": [],
   "source": [
    "import numpy as np\n",
    "import pandas as pd\n",
    "import matplotlib.pyplot as plt\n",
    "import seaborn as sns\n",
    "import scipy.stats as stats\n",
    "import plotly.express as px\n",
    "import plotly.graph_objects as go\n",
    "\n",
    "from sklearn.metrics import mean_absolute_error,mean_squared_error,r2_score\n",
    "from sklearn.preprocessing import StandardScaler\n",
    "from sklearn.model_selection import train_test_split\n",
    "from sklearn.linear_model import LinearRegression\n"
   ]
  },
  {
   "cell_type": "markdown",
   "id": "82ceb5bf",
   "metadata": {},
   "source": [
    "## Upload Dataset"
   ]
  },
  {
   "cell_type": "code",
   "execution_count": 2,
   "id": "f147bf5e",
   "metadata": {},
   "outputs": [
    {
     "data": {
      "text/html": [
       "<div>\n",
       "<style scoped>\n",
       "    .dataframe tbody tr th:only-of-type {\n",
       "        vertical-align: middle;\n",
       "    }\n",
       "\n",
       "    .dataframe tbody tr th {\n",
       "        vertical-align: top;\n",
       "    }\n",
       "\n",
       "    .dataframe thead th {\n",
       "        text-align: right;\n",
       "    }\n",
       "</style>\n",
       "<table border=\"1\" class=\"dataframe\">\n",
       "  <thead>\n",
       "    <tr style=\"text-align: right;\">\n",
       "      <th></th>\n",
       "      <th>Unnamed: 0</th>\n",
       "      <th>Pregnancies</th>\n",
       "      <th>Glucose</th>\n",
       "      <th>BloodPressure</th>\n",
       "      <th>SkinThickness</th>\n",
       "      <th>Insulin</th>\n",
       "      <th>BMI</th>\n",
       "      <th>DiabetesPedigreeFunction</th>\n",
       "      <th>Age</th>\n",
       "      <th>Outcome</th>\n",
       "    </tr>\n",
       "  </thead>\n",
       "  <tbody>\n",
       "    <tr>\n",
       "      <th>461</th>\n",
       "      <td>461</td>\n",
       "      <td>1</td>\n",
       "      <td>71</td>\n",
       "      <td>62</td>\n",
       "      <td>0</td>\n",
       "      <td>0</td>\n",
       "      <td>21.8</td>\n",
       "      <td>0.416</td>\n",
       "      <td>26</td>\n",
       "      <td>0</td>\n",
       "    </tr>\n",
       "    <tr>\n",
       "      <th>341</th>\n",
       "      <td>341</td>\n",
       "      <td>1</td>\n",
       "      <td>95</td>\n",
       "      <td>74</td>\n",
       "      <td>21</td>\n",
       "      <td>73</td>\n",
       "      <td>25.9</td>\n",
       "      <td>0.673</td>\n",
       "      <td>36</td>\n",
       "      <td>0</td>\n",
       "    </tr>\n",
       "    <tr>\n",
       "      <th>622</th>\n",
       "      <td>622</td>\n",
       "      <td>6</td>\n",
       "      <td>183</td>\n",
       "      <td>94</td>\n",
       "      <td>0</td>\n",
       "      <td>0</td>\n",
       "      <td>40.8</td>\n",
       "      <td>1.461</td>\n",
       "      <td>45</td>\n",
       "      <td>0</td>\n",
       "    </tr>\n",
       "    <tr>\n",
       "      <th>181</th>\n",
       "      <td>181</td>\n",
       "      <td>0</td>\n",
       "      <td>119</td>\n",
       "      <td>64</td>\n",
       "      <td>18</td>\n",
       "      <td>92</td>\n",
       "      <td>34.9</td>\n",
       "      <td>0.725</td>\n",
       "      <td>23</td>\n",
       "      <td>0</td>\n",
       "    </tr>\n",
       "    <tr>\n",
       "      <th>281</th>\n",
       "      <td>281</td>\n",
       "      <td>10</td>\n",
       "      <td>129</td>\n",
       "      <td>76</td>\n",
       "      <td>28</td>\n",
       "      <td>122</td>\n",
       "      <td>35.9</td>\n",
       "      <td>0.280</td>\n",
       "      <td>39</td>\n",
       "      <td>0</td>\n",
       "    </tr>\n",
       "    <tr>\n",
       "      <th>463</th>\n",
       "      <td>463</td>\n",
       "      <td>5</td>\n",
       "      <td>88</td>\n",
       "      <td>78</td>\n",
       "      <td>30</td>\n",
       "      <td>0</td>\n",
       "      <td>27.6</td>\n",
       "      <td>0.258</td>\n",
       "      <td>37</td>\n",
       "      <td>0</td>\n",
       "    </tr>\n",
       "    <tr>\n",
       "      <th>570</th>\n",
       "      <td>570</td>\n",
       "      <td>3</td>\n",
       "      <td>78</td>\n",
       "      <td>70</td>\n",
       "      <td>0</td>\n",
       "      <td>0</td>\n",
       "      <td>32.5</td>\n",
       "      <td>0.270</td>\n",
       "      <td>39</td>\n",
       "      <td>0</td>\n",
       "    </tr>\n",
       "  </tbody>\n",
       "</table>\n",
       "</div>"
      ],
      "text/plain": [
       "     Unnamed: 0  Pregnancies  Glucose  BloodPressure  SkinThickness  Insulin  \\\n",
       "461         461            1       71             62              0        0   \n",
       "341         341            1       95             74             21       73   \n",
       "622         622            6      183             94              0        0   \n",
       "181         181            0      119             64             18       92   \n",
       "281         281           10      129             76             28      122   \n",
       "463         463            5       88             78             30        0   \n",
       "570         570            3       78             70              0        0   \n",
       "\n",
       "      BMI  DiabetesPedigreeFunction  Age  Outcome  \n",
       "461  21.8                     0.416   26        0  \n",
       "341  25.9                     0.673   36        0  \n",
       "622  40.8                     1.461   45        0  \n",
       "181  34.9                     0.725   23        0  \n",
       "281  35.9                     0.280   39        0  \n",
       "463  27.6                     0.258   37        0  \n",
       "570  32.5                     0.270   39        0  "
      ]
     },
     "execution_count": 2,
     "metadata": {},
     "output_type": "execute_result"
    }
   ],
   "source": [
    "data=pd.read_csv('diabetesdataset.csv')\n",
    "data.sample(7)"
   ]
  },
  {
   "cell_type": "markdown",
   "id": "1980ea7a",
   "metadata": {},
   "source": [
    "## Data Analysis"
   ]
  },
  {
   "cell_type": "code",
   "execution_count": 3,
   "id": "eb291152",
   "metadata": {},
   "outputs": [
    {
     "name": "stdout",
     "output_type": "stream",
     "text": [
      "Number Of Rows 768\n",
      "Number Of Columns 10\n"
     ]
    },
    {
     "data": {
      "text/plain": [
       "(768, 10)"
      ]
     },
     "execution_count": 3,
     "metadata": {},
     "output_type": "execute_result"
    }
   ],
   "source": [
    "print(\"Number Of Rows\",data.shape[0])\n",
    "print(\"Number Of Columns\",data.shape[1])\n",
    "data.shape"
   ]
  },
  {
   "cell_type": "code",
   "execution_count": 4,
   "id": "ac84828d",
   "metadata": {},
   "outputs": [
    {
     "name": "stdout",
     "output_type": "stream",
     "text": [
      "<class 'pandas.core.frame.DataFrame'>\n",
      "RangeIndex: 768 entries, 0 to 767\n",
      "Data columns (total 10 columns):\n",
      " #   Column                    Non-Null Count  Dtype  \n",
      "---  ------                    --------------  -----  \n",
      " 0   Unnamed: 0                768 non-null    int64  \n",
      " 1   Pregnancies               768 non-null    int64  \n",
      " 2   Glucose                   768 non-null    int64  \n",
      " 3   BloodPressure             768 non-null    int64  \n",
      " 4   SkinThickness             768 non-null    int64  \n",
      " 5   Insulin                   768 non-null    int64  \n",
      " 6   BMI                       768 non-null    float64\n",
      " 7   DiabetesPedigreeFunction  768 non-null    float64\n",
      " 8   Age                       768 non-null    int64  \n",
      " 9   Outcome                   768 non-null    int64  \n",
      "dtypes: float64(2), int64(8)\n",
      "memory usage: 60.1 KB\n"
     ]
    }
   ],
   "source": [
    "data.info()"
   ]
  },
  {
   "cell_type": "code",
   "execution_count": 5,
   "id": "5daf8c72",
   "metadata": {},
   "outputs": [
    {
     "data": {
      "text/html": [
       "<div>\n",
       "<style scoped>\n",
       "    .dataframe tbody tr th:only-of-type {\n",
       "        vertical-align: middle;\n",
       "    }\n",
       "\n",
       "    .dataframe tbody tr th {\n",
       "        vertical-align: top;\n",
       "    }\n",
       "\n",
       "    .dataframe thead th {\n",
       "        text-align: right;\n",
       "    }\n",
       "</style>\n",
       "<table border=\"1\" class=\"dataframe\">\n",
       "  <thead>\n",
       "    <tr style=\"text-align: right;\">\n",
       "      <th></th>\n",
       "      <th>Unnamed: 0</th>\n",
       "      <th>Pregnancies</th>\n",
       "      <th>Glucose</th>\n",
       "      <th>BloodPressure</th>\n",
       "      <th>SkinThickness</th>\n",
       "      <th>Insulin</th>\n",
       "      <th>BMI</th>\n",
       "      <th>DiabetesPedigreeFunction</th>\n",
       "      <th>Age</th>\n",
       "      <th>Outcome</th>\n",
       "    </tr>\n",
       "  </thead>\n",
       "  <tbody>\n",
       "    <tr>\n",
       "      <th>count</th>\n",
       "      <td>768.000000</td>\n",
       "      <td>768.000000</td>\n",
       "      <td>768.000000</td>\n",
       "      <td>768.000000</td>\n",
       "      <td>768.000000</td>\n",
       "      <td>768.000000</td>\n",
       "      <td>768.000000</td>\n",
       "      <td>768.000000</td>\n",
       "      <td>768.000000</td>\n",
       "      <td>768.000000</td>\n",
       "    </tr>\n",
       "    <tr>\n",
       "      <th>mean</th>\n",
       "      <td>383.500000</td>\n",
       "      <td>3.845052</td>\n",
       "      <td>120.894531</td>\n",
       "      <td>69.105469</td>\n",
       "      <td>20.536458</td>\n",
       "      <td>79.799479</td>\n",
       "      <td>31.992578</td>\n",
       "      <td>0.471876</td>\n",
       "      <td>33.240885</td>\n",
       "      <td>0.348958</td>\n",
       "    </tr>\n",
       "    <tr>\n",
       "      <th>std</th>\n",
       "      <td>221.846794</td>\n",
       "      <td>3.369578</td>\n",
       "      <td>31.972618</td>\n",
       "      <td>19.355807</td>\n",
       "      <td>15.952218</td>\n",
       "      <td>115.244002</td>\n",
       "      <td>7.884160</td>\n",
       "      <td>0.331329</td>\n",
       "      <td>11.760232</td>\n",
       "      <td>0.476951</td>\n",
       "    </tr>\n",
       "    <tr>\n",
       "      <th>min</th>\n",
       "      <td>0.000000</td>\n",
       "      <td>0.000000</td>\n",
       "      <td>0.000000</td>\n",
       "      <td>0.000000</td>\n",
       "      <td>0.000000</td>\n",
       "      <td>0.000000</td>\n",
       "      <td>0.000000</td>\n",
       "      <td>0.078000</td>\n",
       "      <td>21.000000</td>\n",
       "      <td>0.000000</td>\n",
       "    </tr>\n",
       "    <tr>\n",
       "      <th>25%</th>\n",
       "      <td>191.750000</td>\n",
       "      <td>1.000000</td>\n",
       "      <td>99.000000</td>\n",
       "      <td>62.000000</td>\n",
       "      <td>0.000000</td>\n",
       "      <td>0.000000</td>\n",
       "      <td>27.300000</td>\n",
       "      <td>0.243750</td>\n",
       "      <td>24.000000</td>\n",
       "      <td>0.000000</td>\n",
       "    </tr>\n",
       "    <tr>\n",
       "      <th>50%</th>\n",
       "      <td>383.500000</td>\n",
       "      <td>3.000000</td>\n",
       "      <td>117.000000</td>\n",
       "      <td>72.000000</td>\n",
       "      <td>23.000000</td>\n",
       "      <td>30.500000</td>\n",
       "      <td>32.000000</td>\n",
       "      <td>0.372500</td>\n",
       "      <td>29.000000</td>\n",
       "      <td>0.000000</td>\n",
       "    </tr>\n",
       "    <tr>\n",
       "      <th>75%</th>\n",
       "      <td>575.250000</td>\n",
       "      <td>6.000000</td>\n",
       "      <td>140.250000</td>\n",
       "      <td>80.000000</td>\n",
       "      <td>32.000000</td>\n",
       "      <td>127.250000</td>\n",
       "      <td>36.600000</td>\n",
       "      <td>0.626250</td>\n",
       "      <td>41.000000</td>\n",
       "      <td>1.000000</td>\n",
       "    </tr>\n",
       "    <tr>\n",
       "      <th>max</th>\n",
       "      <td>767.000000</td>\n",
       "      <td>17.000000</td>\n",
       "      <td>199.000000</td>\n",
       "      <td>122.000000</td>\n",
       "      <td>99.000000</td>\n",
       "      <td>846.000000</td>\n",
       "      <td>67.100000</td>\n",
       "      <td>2.420000</td>\n",
       "      <td>81.000000</td>\n",
       "      <td>1.000000</td>\n",
       "    </tr>\n",
       "  </tbody>\n",
       "</table>\n",
       "</div>"
      ],
      "text/plain": [
       "       Unnamed: 0  Pregnancies     Glucose  BloodPressure  SkinThickness  \\\n",
       "count  768.000000   768.000000  768.000000     768.000000     768.000000   \n",
       "mean   383.500000     3.845052  120.894531      69.105469      20.536458   \n",
       "std    221.846794     3.369578   31.972618      19.355807      15.952218   \n",
       "min      0.000000     0.000000    0.000000       0.000000       0.000000   \n",
       "25%    191.750000     1.000000   99.000000      62.000000       0.000000   \n",
       "50%    383.500000     3.000000  117.000000      72.000000      23.000000   \n",
       "75%    575.250000     6.000000  140.250000      80.000000      32.000000   \n",
       "max    767.000000    17.000000  199.000000     122.000000      99.000000   \n",
       "\n",
       "          Insulin         BMI  DiabetesPedigreeFunction         Age  \\\n",
       "count  768.000000  768.000000                768.000000  768.000000   \n",
       "mean    79.799479   31.992578                  0.471876   33.240885   \n",
       "std    115.244002    7.884160                  0.331329   11.760232   \n",
       "min      0.000000    0.000000                  0.078000   21.000000   \n",
       "25%      0.000000   27.300000                  0.243750   24.000000   \n",
       "50%     30.500000   32.000000                  0.372500   29.000000   \n",
       "75%    127.250000   36.600000                  0.626250   41.000000   \n",
       "max    846.000000   67.100000                  2.420000   81.000000   \n",
       "\n",
       "          Outcome  \n",
       "count  768.000000  \n",
       "mean     0.348958  \n",
       "std      0.476951  \n",
       "min      0.000000  \n",
       "25%      0.000000  \n",
       "50%      0.000000  \n",
       "75%      1.000000  \n",
       "max      1.000000  "
      ]
     },
     "execution_count": 5,
     "metadata": {},
     "output_type": "execute_result"
    }
   ],
   "source": [
    "data.describe()"
   ]
  },
  {
   "cell_type": "code",
   "execution_count": 6,
   "id": "36880421",
   "metadata": {},
   "outputs": [
    {
     "data": {
      "text/html": [
       "<div>\n",
       "<style scoped>\n",
       "    .dataframe tbody tr th:only-of-type {\n",
       "        vertical-align: middle;\n",
       "    }\n",
       "\n",
       "    .dataframe tbody tr th {\n",
       "        vertical-align: top;\n",
       "    }\n",
       "\n",
       "    .dataframe thead th {\n",
       "        text-align: right;\n",
       "    }\n",
       "</style>\n",
       "<table border=\"1\" class=\"dataframe\">\n",
       "  <thead>\n",
       "    <tr style=\"text-align: right;\">\n",
       "      <th></th>\n",
       "      <th>Unnamed: 0</th>\n",
       "      <th>Pregnancies</th>\n",
       "      <th>Glucose</th>\n",
       "      <th>BloodPressure</th>\n",
       "      <th>SkinThickness</th>\n",
       "      <th>Insulin</th>\n",
       "      <th>BMI</th>\n",
       "      <th>DiabetesPedigreeFunction</th>\n",
       "      <th>Age</th>\n",
       "      <th>Outcome</th>\n",
       "    </tr>\n",
       "  </thead>\n",
       "  <tbody>\n",
       "    <tr>\n",
       "      <th>Unnamed: 0</th>\n",
       "      <td>1.000000</td>\n",
       "      <td>-0.037201</td>\n",
       "      <td>0.012994</td>\n",
       "      <td>0.020953</td>\n",
       "      <td>0.019006</td>\n",
       "      <td>0.001998</td>\n",
       "      <td>0.012320</td>\n",
       "      <td>-0.040326</td>\n",
       "      <td>0.007714</td>\n",
       "      <td>-0.045184</td>\n",
       "    </tr>\n",
       "    <tr>\n",
       "      <th>Pregnancies</th>\n",
       "      <td>-0.037201</td>\n",
       "      <td>1.000000</td>\n",
       "      <td>0.129459</td>\n",
       "      <td>0.141282</td>\n",
       "      <td>-0.081672</td>\n",
       "      <td>-0.073535</td>\n",
       "      <td>0.017683</td>\n",
       "      <td>-0.033523</td>\n",
       "      <td>0.544341</td>\n",
       "      <td>0.221898</td>\n",
       "    </tr>\n",
       "    <tr>\n",
       "      <th>Glucose</th>\n",
       "      <td>0.012994</td>\n",
       "      <td>0.129459</td>\n",
       "      <td>1.000000</td>\n",
       "      <td>0.152590</td>\n",
       "      <td>0.057328</td>\n",
       "      <td>0.331357</td>\n",
       "      <td>0.221071</td>\n",
       "      <td>0.137337</td>\n",
       "      <td>0.263514</td>\n",
       "      <td>0.466581</td>\n",
       "    </tr>\n",
       "    <tr>\n",
       "      <th>BloodPressure</th>\n",
       "      <td>0.020953</td>\n",
       "      <td>0.141282</td>\n",
       "      <td>0.152590</td>\n",
       "      <td>1.000000</td>\n",
       "      <td>0.207371</td>\n",
       "      <td>0.088933</td>\n",
       "      <td>0.281805</td>\n",
       "      <td>0.041265</td>\n",
       "      <td>0.239528</td>\n",
       "      <td>0.065068</td>\n",
       "    </tr>\n",
       "    <tr>\n",
       "      <th>SkinThickness</th>\n",
       "      <td>0.019006</td>\n",
       "      <td>-0.081672</td>\n",
       "      <td>0.057328</td>\n",
       "      <td>0.207371</td>\n",
       "      <td>1.000000</td>\n",
       "      <td>0.436783</td>\n",
       "      <td>0.392573</td>\n",
       "      <td>0.183928</td>\n",
       "      <td>-0.113970</td>\n",
       "      <td>0.074752</td>\n",
       "    </tr>\n",
       "    <tr>\n",
       "      <th>Insulin</th>\n",
       "      <td>0.001998</td>\n",
       "      <td>-0.073535</td>\n",
       "      <td>0.331357</td>\n",
       "      <td>0.088933</td>\n",
       "      <td>0.436783</td>\n",
       "      <td>1.000000</td>\n",
       "      <td>0.197859</td>\n",
       "      <td>0.185071</td>\n",
       "      <td>-0.042163</td>\n",
       "      <td>0.130548</td>\n",
       "    </tr>\n",
       "    <tr>\n",
       "      <th>BMI</th>\n",
       "      <td>0.012320</td>\n",
       "      <td>0.017683</td>\n",
       "      <td>0.221071</td>\n",
       "      <td>0.281805</td>\n",
       "      <td>0.392573</td>\n",
       "      <td>0.197859</td>\n",
       "      <td>1.000000</td>\n",
       "      <td>0.140647</td>\n",
       "      <td>0.036242</td>\n",
       "      <td>0.292695</td>\n",
       "    </tr>\n",
       "    <tr>\n",
       "      <th>DiabetesPedigreeFunction</th>\n",
       "      <td>-0.040326</td>\n",
       "      <td>-0.033523</td>\n",
       "      <td>0.137337</td>\n",
       "      <td>0.041265</td>\n",
       "      <td>0.183928</td>\n",
       "      <td>0.185071</td>\n",
       "      <td>0.140647</td>\n",
       "      <td>1.000000</td>\n",
       "      <td>0.033561</td>\n",
       "      <td>0.173844</td>\n",
       "    </tr>\n",
       "    <tr>\n",
       "      <th>Age</th>\n",
       "      <td>0.007714</td>\n",
       "      <td>0.544341</td>\n",
       "      <td>0.263514</td>\n",
       "      <td>0.239528</td>\n",
       "      <td>-0.113970</td>\n",
       "      <td>-0.042163</td>\n",
       "      <td>0.036242</td>\n",
       "      <td>0.033561</td>\n",
       "      <td>1.000000</td>\n",
       "      <td>0.238356</td>\n",
       "    </tr>\n",
       "    <tr>\n",
       "      <th>Outcome</th>\n",
       "      <td>-0.045184</td>\n",
       "      <td>0.221898</td>\n",
       "      <td>0.466581</td>\n",
       "      <td>0.065068</td>\n",
       "      <td>0.074752</td>\n",
       "      <td>0.130548</td>\n",
       "      <td>0.292695</td>\n",
       "      <td>0.173844</td>\n",
       "      <td>0.238356</td>\n",
       "      <td>1.000000</td>\n",
       "    </tr>\n",
       "  </tbody>\n",
       "</table>\n",
       "</div>"
      ],
      "text/plain": [
       "                          Unnamed: 0  Pregnancies   Glucose  BloodPressure  \\\n",
       "Unnamed: 0                  1.000000    -0.037201  0.012994       0.020953   \n",
       "Pregnancies                -0.037201     1.000000  0.129459       0.141282   \n",
       "Glucose                     0.012994     0.129459  1.000000       0.152590   \n",
       "BloodPressure               0.020953     0.141282  0.152590       1.000000   \n",
       "SkinThickness               0.019006    -0.081672  0.057328       0.207371   \n",
       "Insulin                     0.001998    -0.073535  0.331357       0.088933   \n",
       "BMI                         0.012320     0.017683  0.221071       0.281805   \n",
       "DiabetesPedigreeFunction   -0.040326    -0.033523  0.137337       0.041265   \n",
       "Age                         0.007714     0.544341  0.263514       0.239528   \n",
       "Outcome                    -0.045184     0.221898  0.466581       0.065068   \n",
       "\n",
       "                          SkinThickness   Insulin       BMI  \\\n",
       "Unnamed: 0                     0.019006  0.001998  0.012320   \n",
       "Pregnancies                   -0.081672 -0.073535  0.017683   \n",
       "Glucose                        0.057328  0.331357  0.221071   \n",
       "BloodPressure                  0.207371  0.088933  0.281805   \n",
       "SkinThickness                  1.000000  0.436783  0.392573   \n",
       "Insulin                        0.436783  1.000000  0.197859   \n",
       "BMI                            0.392573  0.197859  1.000000   \n",
       "DiabetesPedigreeFunction       0.183928  0.185071  0.140647   \n",
       "Age                           -0.113970 -0.042163  0.036242   \n",
       "Outcome                        0.074752  0.130548  0.292695   \n",
       "\n",
       "                          DiabetesPedigreeFunction       Age   Outcome  \n",
       "Unnamed: 0                               -0.040326  0.007714 -0.045184  \n",
       "Pregnancies                              -0.033523  0.544341  0.221898  \n",
       "Glucose                                   0.137337  0.263514  0.466581  \n",
       "BloodPressure                             0.041265  0.239528  0.065068  \n",
       "SkinThickness                             0.183928 -0.113970  0.074752  \n",
       "Insulin                                   0.185071 -0.042163  0.130548  \n",
       "BMI                                       0.140647  0.036242  0.292695  \n",
       "DiabetesPedigreeFunction                  1.000000  0.033561  0.173844  \n",
       "Age                                       0.033561  1.000000  0.238356  \n",
       "Outcome                                   0.173844  0.238356  1.000000  "
      ]
     },
     "execution_count": 6,
     "metadata": {},
     "output_type": "execute_result"
    }
   ],
   "source": [
    "data.corr()"
   ]
  },
  {
   "cell_type": "markdown",
   "id": "4504e2c5",
   "metadata": {},
   "source": [
    "## Now Remove the unnecessary Columns"
   ]
  },
  {
   "cell_type": "code",
   "execution_count": 7,
   "id": "c2248c2c",
   "metadata": {},
   "outputs": [
    {
     "data": {
      "text/html": [
       "<div>\n",
       "<style scoped>\n",
       "    .dataframe tbody tr th:only-of-type {\n",
       "        vertical-align: middle;\n",
       "    }\n",
       "\n",
       "    .dataframe tbody tr th {\n",
       "        vertical-align: top;\n",
       "    }\n",
       "\n",
       "    .dataframe thead th {\n",
       "        text-align: right;\n",
       "    }\n",
       "</style>\n",
       "<table border=\"1\" class=\"dataframe\">\n",
       "  <thead>\n",
       "    <tr style=\"text-align: right;\">\n",
       "      <th></th>\n",
       "      <th>Pregnancies</th>\n",
       "      <th>DiabetesPedigreeFunction</th>\n",
       "      <th>Age</th>\n",
       "      <th>Outcome</th>\n",
       "    </tr>\n",
       "  </thead>\n",
       "  <tbody>\n",
       "    <tr>\n",
       "      <th>258</th>\n",
       "      <td>1</td>\n",
       "      <td>0.655</td>\n",
       "      <td>24</td>\n",
       "      <td>0</td>\n",
       "    </tr>\n",
       "    <tr>\n",
       "      <th>162</th>\n",
       "      <td>0</td>\n",
       "      <td>0.167</td>\n",
       "      <td>27</td>\n",
       "      <td>0</td>\n",
       "    </tr>\n",
       "    <tr>\n",
       "      <th>350</th>\n",
       "      <td>4</td>\n",
       "      <td>0.237</td>\n",
       "      <td>29</td>\n",
       "      <td>0</td>\n",
       "    </tr>\n",
       "    <tr>\n",
       "      <th>236</th>\n",
       "      <td>7</td>\n",
       "      <td>0.586</td>\n",
       "      <td>51</td>\n",
       "      <td>1</td>\n",
       "    </tr>\n",
       "    <tr>\n",
       "      <th>149</th>\n",
       "      <td>2</td>\n",
       "      <td>0.085</td>\n",
       "      <td>22</td>\n",
       "      <td>0</td>\n",
       "    </tr>\n",
       "    <tr>\n",
       "      <th>335</th>\n",
       "      <td>0</td>\n",
       "      <td>0.259</td>\n",
       "      <td>26</td>\n",
       "      <td>0</td>\n",
       "    </tr>\n",
       "    <tr>\n",
       "      <th>408</th>\n",
       "      <td>8</td>\n",
       "      <td>1.191</td>\n",
       "      <td>39</td>\n",
       "      <td>1</td>\n",
       "    </tr>\n",
       "  </tbody>\n",
       "</table>\n",
       "</div>"
      ],
      "text/plain": [
       "     Pregnancies  DiabetesPedigreeFunction  Age  Outcome\n",
       "258            1                     0.655   24        0\n",
       "162            0                     0.167   27        0\n",
       "350            4                     0.237   29        0\n",
       "236            7                     0.586   51        1\n",
       "149            2                     0.085   22        0\n",
       "335            0                     0.259   26        0\n",
       "408            8                     1.191   39        1"
      ]
     },
     "execution_count": 7,
     "metadata": {},
     "output_type": "execute_result"
    }
   ],
   "source": [
    "data.drop(['Unnamed: 0', 'Insulin','Glucose', 'BloodPressure','BMI','SkinThickness'],axis=1,inplace=True)\n",
    "data.sample(7)"
   ]
  },
  {
   "cell_type": "markdown",
   "id": "7be25f3f",
   "metadata": {},
   "source": [
    "#### Now check the behaviour of the data outliers present or Not"
   ]
  },
  {
   "cell_type": "code",
   "execution_count": 8,
   "id": "947d56c3",
   "metadata": {},
   "outputs": [
    {
     "data": {
      "text/plain": [
       "Pregnancies                 0.117405\n",
       "DiabetesPedigreeFunction    0.249988\n",
       "Age                         0.147083\n",
       "Outcome                     0.082684\n",
       "dtype: float64"
      ]
     },
     "execution_count": 8,
     "metadata": {},
     "output_type": "execute_result"
    }
   ],
   "source": [
    "data.skew()/len(data)*100"
   ]
  },
  {
   "cell_type": "code",
   "execution_count": 9,
   "id": "0e2125d2",
   "metadata": {},
   "outputs": [],
   "source": [
    "### now we can clearly see that outlier are present in a big amount so before train the model first remove the outliers"
   ]
  },
  {
   "cell_type": "code",
   "execution_count": 10,
   "id": "ac0d02cb",
   "metadata": {},
   "outputs": [
    {
     "name": "stderr",
     "output_type": "stream",
     "text": [
      "C:\\Python310\\lib\\site-packages\\seaborn\\_decorators.py:36: FutureWarning: Pass the following variable as a keyword arg: x. From version 0.12, the only valid positional argument will be `data`, and passing other arguments without an explicit keyword will result in an error or misinterpretation.\n",
      "  warnings.warn(\n",
      "C:\\Python310\\lib\\site-packages\\seaborn\\_decorators.py:36: FutureWarning: Pass the following variable as a keyword arg: x. From version 0.12, the only valid positional argument will be `data`, and passing other arguments without an explicit keyword will result in an error or misinterpretation.\n",
      "  warnings.warn(\n",
      "C:\\Python310\\lib\\site-packages\\seaborn\\_decorators.py:36: FutureWarning: Pass the following variable as a keyword arg: x. From version 0.12, the only valid positional argument will be `data`, and passing other arguments without an explicit keyword will result in an error or misinterpretation.\n",
      "  warnings.warn(\n"
     ]
    },
    {
     "data": {
      "image/png": "[encoded data removed]",
      "text/plain": [
       "<Figure size 1200x300 with 3 Axes>"
      ]
     },
     "metadata": {},
     "output_type": "display_data"
    }
   ],
   "source": [
    "fig,(ax1,ax2,ax3)=plt.subplots(ncols=3, figsize=(12,3))\n",
    "sns.boxplot(data['Pregnancies'], ax=ax1)\n",
    "sns.boxplot(data['Age'], ax=ax2)\n",
    "sns.boxplot(data['DiabetesPedigreeFunction'], ax=ax3)\n",
    "plt.show()"
   ]
  },
  {
   "cell_type": "markdown",
   "id": "7d467d92",
   "metadata": {},
   "source": [
    "### Working to remove Outliers"
   ]
  },
  {
   "cell_type": "code",
   "execution_count": 11,
   "id": "ec38ec25",
   "metadata": {},
   "outputs": [
    {
     "name": "stderr",
     "output_type": "stream",
     "text": [
      "C:\\Python310\\lib\\site-packages\\seaborn\\distributions.py:2619: FutureWarning: `distplot` is a deprecated function and will be removed in a future version. Please adapt your code to use either `displot` (a figure-level function with similar flexibility) or `histplot` (an axes-level function for histograms).\n",
      "  warnings.warn(msg, FutureWarning)\n",
      "C:\\Python310\\lib\\site-packages\\seaborn\\distributions.py:2619: FutureWarning: `distplot` is a deprecated function and will be removed in a future version. Please adapt your code to use either `displot` (a figure-level function with similar flexibility) or `histplot` (an axes-level function for histograms).\n",
      "  warnings.warn(msg, FutureWarning)\n",
      "C:\\Python310\\lib\\site-packages\\seaborn\\distributions.py:2619: FutureWarning: `distplot` is a deprecated function and will be removed in a future version. Please adapt your code to use either `displot` (a figure-level function with similar flexibility) or `histplot` (an axes-level function for histograms).\n",
      "  warnings.warn(msg, FutureWarning)\n"
     ]
    },
    {
     "data": {
      "image/png": "[encoded data removed]",
      "text/plain": [
       "<Figure size 1200x300 with 3 Axes>"
      ]
     },
     "metadata": {},
     "output_type": "display_data"
    }
   ],
   "source": [
    "fig,(ax1,ax2,ax3)=plt.subplots(ncols=3, figsize=(12,3))\n",
    "sns.distplot(data['Pregnancies'], ax=ax1)\n",
    "sns.distplot(data['Age'], ax=ax2)\n",
    "sns.distplot(data['DiabetesPedigreeFunction'], ax=ax3)\n",
    "plt.show()"
   ]
  },
  {
   "cell_type": "code",
   "execution_count": 12,
   "id": "bfcab5db",
   "metadata": {},
   "outputs": [
    {
     "data": {
      "text/plain": [
       "Index(['Pregnancies', 'DiabetesPedigreeFunction', 'Age', 'Outcome'], dtype='object')"
      ]
     },
     "execution_count": 12,
     "metadata": {},
     "output_type": "execute_result"
    }
   ],
   "source": [
    "#### Now we'll use IQR Method for remove outliers\n",
    "data.columns\n"
   ]
  },
  {
   "cell_type": "code",
   "execution_count": 13,
   "id": "41423ece",
   "metadata": {},
   "outputs": [],
   "source": [
    "percentile25_Pregnancies=data['Pregnancies'].quantile(0.25)\n",
    "percentile75_Pregnancies=data['Pregnancies'].quantile(0.75)\n",
    "\n",
    "# percentile25_Insulin=data['Insulin'].quantile(0.25)\n",
    "# percentile75_Insulin=data['Insulin'].quantile(0.75)\n",
    "\n",
    "percentile25_DiabetesPedigreeFunction=data['DiabetesPedigreeFunction'].quantile(0.25)\n",
    "percentile75_DiabetesPedigreeFunction=data['DiabetesPedigreeFunction'].quantile(0.75)\n",
    "\n",
    "percentile25_Age=data['Age'].quantile(0.25)\n",
    "percentile75_Age=data['Age'].quantile(0.75)"
   ]
  },
  {
   "cell_type": "code",
   "execution_count": 14,
   "id": "be17ebca",
   "metadata": {},
   "outputs": [],
   "source": [
    "iqr_Pregnancies=percentile75_Pregnancies - percentile25_Pregnancies\n",
    "# iqr_Insulin=percentile75_Insulin - percentile25_Insulin\n",
    "iqr_DiabetesPedigreeFunction=percentile75_DiabetesPedigreeFunction - percentile25_DiabetesPedigreeFunction\n",
    "iqr_Age = percentile75_Age - percentile25_Age"
   ]
  },
  {
   "cell_type": "code",
   "execution_count": 15,
   "id": "ad2efec8",
   "metadata": {},
   "outputs": [],
   "source": [
    "upper_limit_Pregnancies = percentile75_Pregnancies + 1.5 * iqr_Pregnancies\n",
    "lower_limit_Pregnancies = percentile25_Pregnancies - 1.5 * iqr_Pregnancies\n",
    "\n",
    "# upper_limit_Insulin = percentile75_Insulin + 1.5 * iqr_Insulin\n",
    "# lower_limit_Insulin = percentile25_Insulin - 1.5 * iqr_Insulin\n",
    "\n",
    "upper_limit_DiabetesPedigreeFunction = percentile75_DiabetesPedigreeFunction + 1.5 * iqr_DiabetesPedigreeFunction\n",
    "lower_limit_DiabetesPedigreeFunction = percentile25_DiabetesPedigreeFunction - 1.5 * iqr_DiabetesPedigreeFunction\n",
    "\n",
    "upper_limit_Age = percentile75_Age + 1.5 * iqr_Age\n",
    "lower_limit_Age = percentile25_Age - 1.5 * iqr_Age"
   ]
  },
  {
   "cell_type": "code",
   "execution_count": 16,
   "id": "7513eddb",
   "metadata": {},
   "outputs": [
    {
     "name": "stdout",
     "output_type": "stream",
     "text": [
      "Upper limit_Pregnancies 13.5\n",
      "Lower limit_Pregnancies -6.5\n",
      "Upper limit_DiabetesPedigreeFunction 1.2\n",
      "Lower limit_DiabetesPedigreeFunction -0.32999999999999996\n",
      "Upper limit_Age 66.5\n",
      "Lower limit_Age -1.5\n"
     ]
    }
   ],
   "source": [
    "print(\"Upper limit_Pregnancies\",upper_limit_Pregnancies)\n",
    "print(\"Lower limit_Pregnancies\",lower_limit_Pregnancies)\n",
    "\n",
    "# print(\"Upper limit_Insulin\",upper_limit_Insulin)\n",
    "# print(\"Lower limit_Insulin\",lower_limit_Insulin)\n",
    "\n",
    "print(\"Upper limit_DiabetesPedigreeFunction\",upper_limit_DiabetesPedigreeFunction)\n",
    "print(\"Lower limit_DiabetesPedigreeFunction\",lower_limit_DiabetesPedigreeFunction)\n",
    "\n",
    "print(\"Upper limit_Age\",upper_limit_Age)\n",
    "print(\"Lower limit_Age\",lower_limit_Age)"
   ]
  },
  {
   "cell_type": "code",
   "execution_count": 17,
   "id": "db1a534f",
   "metadata": {},
   "outputs": [],
   "source": [
    "## Now apply the Limit_value One by one and save in data Frame"
   ]
  },
  {
   "cell_type": "code",
   "execution_count": 18,
   "id": "2d6d1e2f",
   "metadata": {},
   "outputs": [],
   "source": [
    "new_data=data[data['Pregnancies'] < upper_limit_Pregnancies]\n",
    "new_data=new_data[new_data['Pregnancies'] > lower_limit_Pregnancies]"
   ]
  },
  {
   "cell_type": "code",
   "execution_count": 19,
   "id": "5a5f2dfd",
   "metadata": {},
   "outputs": [],
   "source": [
    "# new_data1=new_data[new_data['Insulin'] < upper_limit_Insulin]\n",
    "# new_data1=new_data1[new_data1['Insulin'] > lower_limit_Insulin]"
   ]
  },
  {
   "cell_type": "code",
   "execution_count": 20,
   "id": "d298854a",
   "metadata": {},
   "outputs": [],
   "source": [
    "new_data2=new_data[new_data['DiabetesPedigreeFunction'] < upper_limit_DiabetesPedigreeFunction]\n",
    "new_data2=new_data2[new_data2['DiabetesPedigreeFunction'] > lower_limit_DiabetesPedigreeFunction]"
   ]
  },
  {
   "cell_type": "code",
   "execution_count": 21,
   "id": "4562e591",
   "metadata": {},
   "outputs": [],
   "source": [
    "new_data3=new_data2[new_data2['Age'] < upper_limit_Age]\n",
    "new_data3=new_data3[new_data3['Age'] > lower_limit_Age]"
   ]
  },
  {
   "cell_type": "code",
   "execution_count": 22,
   "id": "934bdf77",
   "metadata": {},
   "outputs": [
    {
     "data": {
      "text/plain": [
       "Index(['Pregnancies', 'DiabetesPedigreeFunction', 'Age', 'Outcome'], dtype='object')"
      ]
     },
     "execution_count": 22,
     "metadata": {},
     "output_type": "execute_result"
    }
   ],
   "source": [
    "new_data3.columns"
   ]
  },
  {
   "cell_type": "code",
   "execution_count": 23,
   "id": "bc4ae7d5",
   "metadata": {},
   "outputs": [
    {
     "data": {
      "text/plain": [
       "Index(['Pregnancies', 'DiabetesPedigreeFunction', 'Age', 'Outcome'], dtype='object')"
      ]
     },
     "execution_count": 23,
     "metadata": {},
     "output_type": "execute_result"
    }
   ],
   "source": [
    "data.columns"
   ]
  },
  {
   "cell_type": "code",
   "execution_count": 24,
   "id": "394256a9",
   "metadata": {},
   "outputs": [],
   "source": [
    "## Now Visiulize the outlier Before and After"
   ]
  },
  {
   "cell_type": "code",
   "execution_count": 25,
   "id": "daf6910a",
   "metadata": {},
   "outputs": [
    {
     "name": "stderr",
     "output_type": "stream",
     "text": [
      "C:\\Python310\\lib\\site-packages\\seaborn\\_decorators.py:36: FutureWarning: Pass the following variable as a keyword arg: x. From version 0.12, the only valid positional argument will be `data`, and passing other arguments without an explicit keyword will result in an error or misinterpretation.\n",
      "  warnings.warn(\n",
      "C:\\Python310\\lib\\site-packages\\seaborn\\_decorators.py:36: FutureWarning: Pass the following variable as a keyword arg: x. From version 0.12, the only valid positional argument will be `data`, and passing other arguments without an explicit keyword will result in an error or misinterpretation.\n",
      "  warnings.warn(\n",
      "C:\\Python310\\lib\\site-packages\\seaborn\\_decorators.py:36: FutureWarning: Pass the following variable as a keyword arg: x. From version 0.12, the only valid positional argument will be `data`, and passing other arguments without an explicit keyword will result in an error or misinterpretation.\n",
      "  warnings.warn(\n"
     ]
    },
    {
     "data": {
      "text/plain": [
       "<AxesSubplot:xlabel='Age'>"
      ]
     },
     "execution_count": 25,
     "metadata": {},
     "output_type": "execute_result"
    },
    {
     "data": {
      "image/png": "[encoded data removed]",
      "text/plain": [
       "<Figure size 1200x200 with 3 Axes>"
      ]
     },
     "metadata": {},
     "output_type": "display_data"
    }
   ],
   "source": [
    "fig,(ax1,ax3,ax4)=plt.subplots(ncols=3 ,figsize=(12,2))\n",
    "\n",
    "ax1.set_title(\"Before Remove the outliers\")\n",
    "sns.boxplot(data['Pregnancies'],ax=ax1)\n",
    "# sns.boxplot(data['Insulin'],ax=ax2)\n",
    "sns.boxplot(data['DiabetesPedigreeFunction'],ax=ax3)\n",
    "sns.boxplot(data['Age'],ax=ax4)\n",
    "\n"
   ]
  },
  {
   "cell_type": "code",
   "execution_count": 26,
   "id": "5552892a",
   "metadata": {},
   "outputs": [
    {
     "name": "stderr",
     "output_type": "stream",
     "text": [
      "C:\\Python310\\lib\\site-packages\\seaborn\\_decorators.py:36: FutureWarning: Pass the following variable as a keyword arg: x. From version 0.12, the only valid positional argument will be `data`, and passing other arguments without an explicit keyword will result in an error or misinterpretation.\n",
      "  warnings.warn(\n",
      "C:\\Python310\\lib\\site-packages\\seaborn\\_decorators.py:36: FutureWarning: Pass the following variable as a keyword arg: x. From version 0.12, the only valid positional argument will be `data`, and passing other arguments without an explicit keyword will result in an error or misinterpretation.\n",
      "  warnings.warn(\n",
      "C:\\Python310\\lib\\site-packages\\seaborn\\_decorators.py:36: FutureWarning: Pass the following variable as a keyword arg: x. From version 0.12, the only valid positional argument will be `data`, and passing other arguments without an explicit keyword will result in an error or misinterpretation.\n",
      "  warnings.warn(\n"
     ]
    },
    {
     "data": {
      "text/plain": [
       "<AxesSubplot:xlabel='Age'>"
      ]
     },
     "execution_count": 26,
     "metadata": {},
     "output_type": "execute_result"
    },
    {
     "data": {
      "image/png": "[encoded data removed]",
      "text/plain": [
       "<Figure size 1200x200 with 3 Axes>"
      ]
     },
     "metadata": {},
     "output_type": "display_data"
    }
   ],
   "source": [
    "fig,(ax5,ax7,ax8)=plt.subplots(ncols=3 ,figsize=(12,2))\n",
    "ax5.set_title(\"After Remove the outliers\")\n",
    "\n",
    "sns.boxplot(new_data3['Pregnancies'],ax=ax5)\n",
    "# sns.boxplot(new_data3['Insulin'],ax=ax6)\n",
    "sns.boxplot(new_data3['DiabetesPedigreeFunction'],ax=ax7)\n",
    "sns.boxplot(new_data3['Age'],ax=ax8)"
   ]
  },
  {
   "cell_type": "code",
   "execution_count": 27,
   "id": "e7edaf2d",
   "metadata": {},
   "outputs": [],
   "source": [
    "## Again Working on Outliers"
   ]
  },
  {
   "cell_type": "code",
   "execution_count": 28,
   "id": "f82f537a",
   "metadata": {},
   "outputs": [
    {
     "data": {
      "text/plain": [
       "Index(['Pregnancies', 'DiabetesPedigreeFunction', 'Age', 'Outcome'], dtype='object')"
      ]
     },
     "execution_count": 28,
     "metadata": {},
     "output_type": "execute_result"
    }
   ],
   "source": [
    "data.columns"
   ]
  },
  {
   "cell_type": "code",
   "execution_count": 29,
   "id": "76eeaeb9",
   "metadata": {},
   "outputs": [
    {
     "name": "stdout",
     "output_type": "stream",
     "text": [
      "Highest allowed 1.1785978259621768\n",
      "Lowest allowed -0.3210055394607995\n",
      "Highest allowed 66.08001121913573\n",
      "Lowest allowed -0.6585236158299352\n"
     ]
    }
   ],
   "source": [
    "# Finding the boundary values\n",
    "# print(\"Highest allowed\",new_data3['Insulin'].mean() + 3*new_data3['Insulin'].std())\n",
    "# print(\"Lowest allowed\",new_data3['Insulin'].mean() - 3*new_data3['Insulin'].std())\n",
    "\n",
    "print(\"Highest allowed\",new_data3['DiabetesPedigreeFunction'].mean() + 3*new_data3['DiabetesPedigreeFunction'].std())\n",
    "print(\"Lowest allowed\",new_data3['DiabetesPedigreeFunction'].mean() - 3*new_data3['DiabetesPedigreeFunction'].std())\n",
    "\n",
    "print(\"Highest allowed\",new_data3['Age'].mean() + 3*new_data3['Age'].std())\n",
    "print(\"Lowest allowed\",new_data3['Age'].mean() - 3*new_data3['Age'].std())"
   ]
  },
  {
   "cell_type": "code",
   "execution_count": 30,
   "id": "95f078a7",
   "metadata": {},
   "outputs": [],
   "source": [
    "# new_data4 = new_data3[(new_data3['Insulin'] < 298.4853910202818) & (new_data3['Insulin'] > -174.36435355630485)]\n",
    "new_data5 = new_data3[(new_data3['DiabetesPedigreeFunction'] < 1.176417884149868) & (new_data3['DiabetesPedigreeFunction'] > -0.3231354634005887)]\n",
    "new_data6 = new_data5[(new_data5['Age'] < 65.68467275365333) & (new_data5['Age'] > -0.4598888919818691)]\n"
   ]
  },
  {
   "cell_type": "code",
   "execution_count": 31,
   "id": "90feadb6",
   "metadata": {},
   "outputs": [
    {
     "name": "stderr",
     "output_type": "stream",
     "text": [
      "C:\\Python310\\lib\\site-packages\\seaborn\\_decorators.py:36: FutureWarning: Pass the following variable as a keyword arg: x. From version 0.12, the only valid positional argument will be `data`, and passing other arguments without an explicit keyword will result in an error or misinterpretation.\n",
      "  warnings.warn(\n",
      "C:\\Python310\\lib\\site-packages\\seaborn\\_decorators.py:36: FutureWarning: Pass the following variable as a keyword arg: x. From version 0.12, the only valid positional argument will be `data`, and passing other arguments without an explicit keyword will result in an error or misinterpretation.\n",
      "  warnings.warn(\n"
     ]
    },
    {
     "data": {
      "text/plain": [
       "<AxesSubplot:xlabel='Age'>"
      ]
     },
     "execution_count": 31,
     "metadata": {},
     "output_type": "execute_result"
    },
    {
     "data": {
      "image/png": "[encoded data removed]",
      "text/plain": [
       "<Figure size 1200x200 with 2 Axes>"
      ]
     },
     "metadata": {},
     "output_type": "display_data"
    }
   ],
   "source": [
    "fig,(ax7,ax8)=plt.subplots(ncols=2 ,figsize=(12,2))\n",
    "ax5.set_title(\"After Remove the outliers\")\n",
    "\n",
    "# sns.boxplot(new_data6['Insulin'],ax=ax6)\n",
    "sns.boxplot(new_data6['DiabetesPedigreeFunction'],ax=ax7)\n",
    "sns.boxplot(new_data6['Age'],ax=ax8)"
   ]
  },
  {
   "cell_type": "code",
   "execution_count": 32,
   "id": "87f39f0c",
   "metadata": {},
   "outputs": [
    {
     "data": {
      "text/plain": [
       "Index(['Pregnancies', 'DiabetesPedigreeFunction', 'Age', 'Outcome'], dtype='object')"
      ]
     },
     "execution_count": 32,
     "metadata": {},
     "output_type": "execute_result"
    }
   ],
   "source": [
    "new_data6.columns"
   ]
  },
  {
   "cell_type": "markdown",
   "id": "8b2dcc0a",
   "metadata": {},
   "source": [
    "## Now standardization the Data"
   ]
  },
  {
   "cell_type": "code",
   "execution_count": 33,
   "id": "288f72f9",
   "metadata": {},
   "outputs": [
    {
     "name": "stdout",
     "output_type": "stream",
     "text": [
      "X Shape (719, 3)\n",
      "Y Shape (719,)\n"
     ]
    }
   ],
   "source": [
    "X=new_data6.drop('Outcome',axis=1)\n",
    "y=new_data6['Outcome']\n",
    "print('X Shape',X.shape)\n",
    "print('Y Shape',y.shape)"
   ]
  },
  {
   "cell_type": "code",
   "execution_count": 34,
   "id": "19e34fe4",
   "metadata": {},
   "outputs": [
    {
     "name": "stdout",
     "output_type": "stream",
     "text": [
      "X_train (503, 3)\n",
      "X_test (216, 3)\n",
      "y_train (503,)\n",
      "y_test (216,)\n"
     ]
    }
   ],
   "source": [
    "x_train,x_test,y_train,y_test=train_test_split(X,y,test_size=0.3,random_state=0)\n",
    "print('X_train',x_train.shape)\n",
    "print('X_test',x_test.shape)\n",
    "print('y_train',y_train.shape)\n",
    "print('y_test',y_test.shape)"
   ]
  },
  {
   "cell_type": "code",
   "execution_count": 35,
   "id": "23540bc3",
   "metadata": {},
   "outputs": [],
   "source": [
    "sc=StandardScaler()\n",
    "\n",
    "sc.fit(x_train)\n",
    "\n",
    "x_train_sc=sc.transform(x_train)\n",
    "x_test_sc=sc.transform(x_test)"
   ]
  },
  {
   "cell_type": "code",
   "execution_count": 36,
   "id": "8685d561",
   "metadata": {},
   "outputs": [],
   "source": [
    "x_train_sc=pd.DataFrame(x_train_sc, columns=x_train.columns)\n",
    "x_test_sc=pd.DataFrame(x_test_sc, columns=x_test.columns)"
   ]
  },
  {
   "cell_type": "markdown",
   "id": "1c80a7b4",
   "metadata": {},
   "source": [
    "## Effect of Standardrization"
   ]
  },
  {
   "cell_type": "code",
   "execution_count": 37,
   "id": "9514a6a8",
   "metadata": {},
   "outputs": [
    {
     "data": {
      "image/png": "[encoded data removed]",
      "text/plain": [
       "<Figure size 1200x400 with 2 Axes>"
      ]
     },
     "metadata": {},
     "output_type": "display_data"
    }
   ],
   "source": [
    "fig,(ax1,ax2)=plt.subplots(ncols=2,figsize=(12,4))\n",
    "\n",
    "ax1.set_title(\"Before Standardization\")\n",
    "sns.kdeplot(data=new_data3,ax=ax1)\n",
    "\n",
    "ax2.set_title(\"After Standardization\")\n",
    "sns.kdeplot(data=x_train_sc,ax=ax2)\n",
    "plt.show()"
   ]
  },
  {
   "cell_type": "markdown",
   "id": "ccedfe18",
   "metadata": {},
   "source": [
    "## Now working on train the Model for prediction"
   ]
  },
  {
   "cell_type": "code",
   "execution_count": 38,
   "id": "22e807cd",
   "metadata": {
    "scrolled": true
   },
   "outputs": [
    {
     "data": {
      "text/plain": [
       "array([0.50911739, 0.39202304, 0.52816608, 0.38620879, 0.15333378,\n",
       "       0.1788372 , 0.16869101, 0.68460571, 0.56291527, 0.36338917,\n",
       "       0.69187851, 0.28811553, 0.24777644, 0.3567086 , 0.67396066,\n",
       "       0.33053911, 0.19920415, 0.21214918, 0.36328443, 0.33244819,\n",
       "       0.18380964, 0.36664638, 0.51207921, 0.45955453, 0.34559066,\n",
       "       0.37180806, 0.371916  , 0.18158775, 0.16790919, 0.24707237,\n",
       "       0.31760897, 0.64515992, 0.46125519, 0.37311427, 0.45463427,\n",
       "       0.43223148, 0.27482788, 0.29245137, 0.29957575, 0.37951969,\n",
       "       0.33010311, 0.39862479, 0.35507041, 0.32884127, 0.16550126,\n",
       "       0.41530389, 0.4805357 , 0.40273377, 0.17101337, 0.2203451 ,\n",
       "       0.69234752, 0.74876956, 0.4270982 , 0.35264758, 0.23193563,\n",
       "       0.12804303, 0.27763026, 0.4018451 , 0.39231242, 0.37410096,\n",
       "       0.18983196, 0.32165049, 0.22213526, 0.5473042 , 0.16767131,\n",
       "       0.45150417, 0.65986565, 0.20217058, 0.30514717, 0.14662302,\n",
       "       0.26361724, 0.18970557, 0.32895702, 0.61125254, 0.32855864,\n",
       "       0.11574915, 0.21561054, 0.55667673, 0.35532746, 0.45422812,\n",
       "       0.29384387, 0.12837429, 0.5572015 , 0.25421132, 0.45777146,\n",
       "       0.19612943, 0.58235839, 0.48223248, 0.27806199, 0.32997706,\n",
       "       0.5348207 , 0.41674359, 0.27806981, 0.2293374 , 0.22854068,\n",
       "       0.3350688 , 0.27659955, 0.63304817, 0.44553049, 0.35470897,\n",
       "       0.34651411, 0.45896622, 0.32740474, 0.63302655, 0.36826114,\n",
       "       0.62520981, 0.47206497, 0.46753883, 0.18366088, 0.22412282,\n",
       "       0.22530263, 0.18145   , 0.30518799, 0.16607821, 0.22267493,\n",
       "       0.38154558, 0.37755911, 0.23656545, 0.49892576, 0.12349451,\n",
       "       0.21750117, 0.42017975, 0.14328096, 0.39415121, 0.31351102,\n",
       "       0.70098298, 0.16529284, 0.30025637, 0.20639138, 0.18456909,\n",
       "       0.22222437, 0.20682312, 0.20357017, 0.31258043, 0.57963482,\n",
       "       0.21013571, 0.1126226 , 0.32444967, 0.12991128, 0.63683796,\n",
       "       0.40806444, 0.44188309, 0.56633543, 0.51585761, 0.65892371,\n",
       "       0.17392796, 0.34261321, 0.61254774, 0.40266775, 0.69148048,\n",
       "       0.23551984, 0.25852196, 0.32179605, 0.1693908 , 0.3964409 ,\n",
       "       0.12493885, 0.26108574, 0.55975499, 0.65189732, 0.19798705,\n",
       "       0.34345075, 0.08564182, 0.1178631 , 0.19567178, 0.25286817,\n",
       "       0.19824731, 0.39245054, 0.69263476, 0.68757923, 0.38357683,\n",
       "       0.31235994, 0.34377847, 0.57906462, 0.59548592, 0.2309454 ,\n",
       "       0.19838151, 0.37260052, 0.51998149, 0.42553174, 0.3022102 ,\n",
       "       0.33534361, 0.53043729, 0.23801334, 0.37722004, 0.4255992 ,\n",
       "       0.37620035, 0.46836112, 0.30548197, 0.36285697, 0.34018256,\n",
       "       0.43076549, 0.41872443, 0.42189143, 0.41965818, 0.43483292,\n",
       "       0.31309739, 0.35956675, 0.43837592, 0.28784392, 0.27626086,\n",
       "       0.24644004, 0.15514665, 0.37173351, 0.51914783, 0.18504911,\n",
       "       0.50520441, 0.14664539, 0.36475149, 0.53193987, 0.30468986,\n",
       "       0.22777803, 0.57159087, 0.37223304, 0.23850472, 0.44013699,\n",
       "       0.29736842])"
      ]
     },
     "execution_count": 38,
     "metadata": {},
     "output_type": "execute_result"
    }
   ],
   "source": [
    "lr=LinearRegression()\n",
    "\n",
    "lr.fit(x_train,y_train)\n",
    "\n",
    "y_pred=lr.predict(x_test)\n",
    "y_pred"
   ]
  },
  {
   "cell_type": "code",
   "execution_count": 39,
   "id": "bec514ef",
   "metadata": {},
   "outputs": [
    {
     "name": "stdout",
     "output_type": "stream",
     "text": [
      "Mean Absolute Error (MAE) 0.40112939278461784\n",
      "Mean Squared Error (MSE) 0.19448816374817252\n",
      "R2 score 0.11859739991891827\n"
     ]
    }
   ],
   "source": [
    "print(\"Mean Absolute Error (MAE)\",mean_absolute_error(y_test,y_pred))\n",
    "print(\"Mean Squared Error (MSE)\",mean_squared_error(y_test,y_pred))\n",
    "print(\"R2 score\",r2_score(y_test,y_pred))"
   ]
  },
  {
   "cell_type": "markdown",
   "id": "772c5773",
   "metadata": {},
   "source": [
    "## Comparing Actual Dataset Vs Prediction Dataset"
   ]
  },
  {
   "cell_type": "code",
   "execution_count": 40,
   "id": "2b09ace7",
   "metadata": {},
   "outputs": [
    {
     "data": {
      "text/html": [
       "<div>\n",
       "<style scoped>\n",
       "    .dataframe tbody tr th:only-of-type {\n",
       "        vertical-align: middle;\n",
       "    }\n",
       "\n",
       "    .dataframe tbody tr th {\n",
       "        vertical-align: top;\n",
       "    }\n",
       "\n",
       "    .dataframe thead th {\n",
       "        text-align: right;\n",
       "    }\n",
       "</style>\n",
       "<table border=\"1\" class=\"dataframe\">\n",
       "  <thead>\n",
       "    <tr style=\"text-align: right;\">\n",
       "      <th></th>\n",
       "      <th>Actual</th>\n",
       "      <th>Prediction</th>\n",
       "    </tr>\n",
       "  </thead>\n",
       "  <tbody>\n",
       "    <tr>\n",
       "      <th>561</th>\n",
       "      <td>1</td>\n",
       "      <td>0.3</td>\n",
       "    </tr>\n",
       "    <tr>\n",
       "      <th>747</th>\n",
       "      <td>0</td>\n",
       "      <td>0.5</td>\n",
       "    </tr>\n",
       "    <tr>\n",
       "      <th>500</th>\n",
       "      <td>0</td>\n",
       "      <td>0.2</td>\n",
       "    </tr>\n",
       "    <tr>\n",
       "      <th>246</th>\n",
       "      <td>0</td>\n",
       "      <td>0.4</td>\n",
       "    </tr>\n",
       "    <tr>\n",
       "      <th>212</th>\n",
       "      <td>0</td>\n",
       "      <td>0.5</td>\n",
       "    </tr>\n",
       "    <tr>\n",
       "      <th>19</th>\n",
       "      <td>1</td>\n",
       "      <td>0.3</td>\n",
       "    </tr>\n",
       "    <tr>\n",
       "      <th>230</th>\n",
       "      <td>1</td>\n",
       "      <td>0.3</td>\n",
       "    </tr>\n",
       "    <tr>\n",
       "      <th>683</th>\n",
       "      <td>1</td>\n",
       "      <td>0.3</td>\n",
       "    </tr>\n",
       "    <tr>\n",
       "      <th>369</th>\n",
       "      <td>1</td>\n",
       "      <td>0.4</td>\n",
       "    </tr>\n",
       "    <tr>\n",
       "      <th>168</th>\n",
       "      <td>0</td>\n",
       "      <td>0.3</td>\n",
       "    </tr>\n",
       "  </tbody>\n",
       "</table>\n",
       "</div>"
      ],
      "text/plain": [
       "     Actual  Prediction\n",
       "561       1         0.3\n",
       "747       0         0.5\n",
       "500       0         0.2\n",
       "246       0         0.4\n",
       "212       0         0.5\n",
       "19        1         0.3\n",
       "230       1         0.3\n",
       "683       1         0.3\n",
       "369       1         0.4\n",
       "168       0         0.3"
      ]
     },
     "execution_count": 40,
     "metadata": {},
     "output_type": "execute_result"
    }
   ],
   "source": [
    "comparing_ds=pd.DataFrame({\"Actual\":y_test,\"Prediction\":y_pred})\n",
    "comparing_ds.sample(10).round(1)"
   ]
  },
  {
   "cell_type": "code",
   "execution_count": 41,
   "id": "f4465c7e",
   "metadata": {},
   "outputs": [
    {
     "data": {
      "text/html": [
       "<div>\n",
       "<style scoped>\n",
       "    .dataframe tbody tr th:only-of-type {\n",
       "        vertical-align: middle;\n",
       "    }\n",
       "\n",
       "    .dataframe tbody tr th {\n",
       "        vertical-align: top;\n",
       "    }\n",
       "\n",
       "    .dataframe thead th {\n",
       "        text-align: right;\n",
       "    }\n",
       "</style>\n",
       "<table border=\"1\" class=\"dataframe\">\n",
       "  <thead>\n",
       "    <tr style=\"text-align: right;\">\n",
       "      <th></th>\n",
       "      <th>Actual</th>\n",
       "      <th>Prediction</th>\n",
       "    </tr>\n",
       "  </thead>\n",
       "  <tbody>\n",
       "    <tr>\n",
       "      <th>count</th>\n",
       "      <td>216.0</td>\n",
       "      <td>216.0</td>\n",
       "    </tr>\n",
       "    <tr>\n",
       "      <th>mean</th>\n",
       "      <td>0.3</td>\n",
       "      <td>0.4</td>\n",
       "    </tr>\n",
       "    <tr>\n",
       "      <th>std</th>\n",
       "      <td>0.5</td>\n",
       "      <td>0.2</td>\n",
       "    </tr>\n",
       "    <tr>\n",
       "      <th>min</th>\n",
       "      <td>0.0</td>\n",
       "      <td>0.1</td>\n",
       "    </tr>\n",
       "    <tr>\n",
       "      <th>25%</th>\n",
       "      <td>0.0</td>\n",
       "      <td>0.2</td>\n",
       "    </tr>\n",
       "    <tr>\n",
       "      <th>50%</th>\n",
       "      <td>0.0</td>\n",
       "      <td>0.3</td>\n",
       "    </tr>\n",
       "    <tr>\n",
       "      <th>75%</th>\n",
       "      <td>1.0</td>\n",
       "      <td>0.4</td>\n",
       "    </tr>\n",
       "    <tr>\n",
       "      <th>max</th>\n",
       "      <td>1.0</td>\n",
       "      <td>0.7</td>\n",
       "    </tr>\n",
       "  </tbody>\n",
       "</table>\n",
       "</div>"
      ],
      "text/plain": [
       "       Actual  Prediction\n",
       "count   216.0       216.0\n",
       "mean      0.3         0.4\n",
       "std       0.5         0.2\n",
       "min       0.0         0.1\n",
       "25%       0.0         0.2\n",
       "50%       0.0         0.3\n",
       "75%       1.0         0.4\n",
       "max       1.0         0.7"
      ]
     },
     "execution_count": 41,
     "metadata": {},
     "output_type": "execute_result"
    }
   ],
   "source": [
    "comparing_ds.describe().round(1)"
   ]
  },
  {
   "cell_type": "code",
   "execution_count": 42,
   "id": "0f28c382",
   "metadata": {},
   "outputs": [],
   "source": [
    "# fig,(ax1,ax2)=plt.subplots(ncols=2,figsize=(12,4))\n",
    "\n",
    "# ax1.set_title(\"Before Standardization\")\n",
    "# sns.scatterplot(comparing_ds['Actual'],ax=ax1)\n",
    "\n",
    "# ax2.set_title(\"After Standardization\")\n",
    "# sns.scatterplot(comparing_ds['Prediction'],ax=ax2)\n",
    "# plt.show()"
   ]
  },
  {
   "cell_type": "code",
   "execution_count": 43,
   "id": "48037373",
   "metadata": {},
   "outputs": [
    {
     "data": {
      "image/png": "[encoded data removed]",
      "text/plain": [
       "<Figure size 640x480 with 1 Axes>"
      ]
     },
     "metadata": {},
     "output_type": "display_data"
    }
   ],
   "source": [
    "sns.kdeplot(data=comparing_ds)\n",
    "plt.show()"
   ]
  },
  {
   "cell_type": "code",
   "execution_count": null,
   "id": "759243d0",
   "metadata": {},
   "outputs": [],
   "source": []
  },
  {
   "cell_type": "code",
   "execution_count": null,
   "id": "d2d06c8a",
   "metadata": {},
   "outputs": [],
   "source": []
  }
 ],
 "metadata": {
  "kernelspec": {
   "display_name": "Python 3 (ipykernel)",
   "language": "python",
   "name": "python3"
  },
  "language_info": {
   "codemirror_mode": {
    "name": "ipython",
    "version": 3
   },
   "file_extension": ".py",
   "mimetype": "text/x-python",
   "name": "python",
   "nbconvert_exporter": "python",
   "pygments_lexer": "ipython3",
   "version": "3.10.4"
  }
 },
 "nbformat": 4,
 "nbformat_minor": 5
}
