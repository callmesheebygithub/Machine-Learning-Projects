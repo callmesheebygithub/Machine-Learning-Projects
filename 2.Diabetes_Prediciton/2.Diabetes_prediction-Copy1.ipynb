{
 "cells": [
  {
   "cell_type": "markdown",
   "id": "8271c9ac",
   "metadata": {},
   "source": [
    "## Diabetes_prediction Machine Learning Model"
   ]
  },
  {
   "cell_type": "code",
   "execution_count": 1,
   "id": "11a3225a",
   "metadata": {},
   "outputs": [],
   "source": [
    "import numpy as np\n",
    "import pandas as pd\n",
    "import matplotlib.pyplot as plt\n",
    "import seaborn as sns\n",
    "# import scipy.stats as stats\n",
    "# import plotly.express as px\n",
    "# import plotly.graph_objects as go\n",
    "\n",
    "from sklearn.metrics import mean_absolute_error,mean_squared_error,r2_score\n",
    "from sklearn.preprocessing import StandardScaler\n",
    "from sklearn.model_selection import train_test_split\n",
    "from sklearn.linear_model import LinearRegression,RidgeClassifier\n",
    "from lazypredict.Supervised import LazyClassifier\n"
   ]
  },
  {
   "cell_type": "markdown",
   "id": "82ceb5bf",
   "metadata": {},
   "source": [
    "## Upload Dataset"
   ]
  },
  {
   "cell_type": "code",
   "execution_count": 2,
   "id": "f147bf5e",
   "metadata": {},
   "outputs": [
    {
     "data": {
      "text/html": [
       "<div>\n",
       "<style scoped>\n",
       "    .dataframe tbody tr th:only-of-type {\n",
       "        vertical-align: middle;\n",
       "    }\n",
       "\n",
       "    .dataframe tbody tr th {\n",
       "        vertical-align: top;\n",
       "    }\n",
       "\n",
       "    .dataframe thead th {\n",
       "        text-align: right;\n",
       "    }\n",
       "</style>\n",
       "<table border=\"1\" class=\"dataframe\">\n",
       "  <thead>\n",
       "    <tr style=\"text-align: right;\">\n",
       "      <th></th>\n",
       "      <th>Unnamed: 0</th>\n",
       "      <th>Pregnancies</th>\n",
       "      <th>Glucose</th>\n",
       "      <th>BloodPressure</th>\n",
       "      <th>SkinThickness</th>\n",
       "      <th>Insulin</th>\n",
       "      <th>BMI</th>\n",
       "      <th>DiabetesPedigreeFunction</th>\n",
       "      <th>Age</th>\n",
       "      <th>Outcome</th>\n",
       "    </tr>\n",
       "  </thead>\n",
       "  <tbody>\n",
       "    <tr>\n",
       "      <th>100</th>\n",
       "      <td>100</td>\n",
       "      <td>1</td>\n",
       "      <td>163</td>\n",
       "      <td>72</td>\n",
       "      <td>0</td>\n",
       "      <td>0</td>\n",
       "      <td>39.00</td>\n",
       "      <td>1.22</td>\n",
       "      <td>33</td>\n",
       "      <td>1</td>\n",
       "    </tr>\n",
       "    <tr>\n",
       "      <th>479</th>\n",
       "      <td>479</td>\n",
       "      <td>4</td>\n",
       "      <td>132</td>\n",
       "      <td>86</td>\n",
       "      <td>31</td>\n",
       "      <td>0</td>\n",
       "      <td>28.00</td>\n",
       "      <td>0.42</td>\n",
       "      <td>63</td>\n",
       "      <td>0</td>\n",
       "    </tr>\n",
       "    <tr>\n",
       "      <th>724</th>\n",
       "      <td>724</td>\n",
       "      <td>1</td>\n",
       "      <td>111</td>\n",
       "      <td>94</td>\n",
       "      <td>0</td>\n",
       "      <td>0</td>\n",
       "      <td>32.80</td>\n",
       "      <td>0.27</td>\n",
       "      <td>45</td>\n",
       "      <td>0</td>\n",
       "    </tr>\n",
       "    <tr>\n",
       "      <th>55</th>\n",
       "      <td>55</td>\n",
       "      <td>1</td>\n",
       "      <td>73</td>\n",
       "      <td>50</td>\n",
       "      <td>10</td>\n",
       "      <td>0</td>\n",
       "      <td>23.00</td>\n",
       "      <td>0.25</td>\n",
       "      <td>21</td>\n",
       "      <td>0</td>\n",
       "    </tr>\n",
       "    <tr>\n",
       "      <th>751</th>\n",
       "      <td>751</td>\n",
       "      <td>1</td>\n",
       "      <td>121</td>\n",
       "      <td>78</td>\n",
       "      <td>39</td>\n",
       "      <td>74</td>\n",
       "      <td>39.00</td>\n",
       "      <td>0.26</td>\n",
       "      <td>28</td>\n",
       "      <td>0</td>\n",
       "    </tr>\n",
       "    <tr>\n",
       "      <th>707</th>\n",
       "      <td>707</td>\n",
       "      <td>2</td>\n",
       "      <td>127</td>\n",
       "      <td>46</td>\n",
       "      <td>21</td>\n",
       "      <td>335</td>\n",
       "      <td>34.40</td>\n",
       "      <td>0.18</td>\n",
       "      <td>22</td>\n",
       "      <td>0</td>\n",
       "    </tr>\n",
       "    <tr>\n",
       "      <th>70</th>\n",
       "      <td>70</td>\n",
       "      <td>2</td>\n",
       "      <td>100</td>\n",
       "      <td>66</td>\n",
       "      <td>20</td>\n",
       "      <td>90</td>\n",
       "      <td>32.90</td>\n",
       "      <td>0.87</td>\n",
       "      <td>28</td>\n",
       "      <td>1</td>\n",
       "    </tr>\n",
       "  </tbody>\n",
       "</table>\n",
       "</div>"
      ],
      "text/plain": [
       "     Unnamed: 0  Pregnancies  Glucose  BloodPressure  SkinThickness  Insulin  \\\n",
       "100         100            1      163             72              0        0   \n",
       "479         479            4      132             86             31        0   \n",
       "724         724            1      111             94              0        0   \n",
       "55           55            1       73             50             10        0   \n",
       "751         751            1      121             78             39       74   \n",
       "707         707            2      127             46             21      335   \n",
       "70           70            2      100             66             20       90   \n",
       "\n",
       "      BMI  DiabetesPedigreeFunction  Age  Outcome  \n",
       "100 39.00                      1.22   33        1  \n",
       "479 28.00                      0.42   63        0  \n",
       "724 32.80                      0.27   45        0  \n",
       "55  23.00                      0.25   21        0  \n",
       "751 39.00                      0.26   28        0  \n",
       "707 34.40                      0.18   22        0  \n",
       "70  32.90                      0.87   28        1  "
      ]
     },
     "execution_count": 2,
     "metadata": {},
     "output_type": "execute_result"
    }
   ],
   "source": [
    "# Now upload the Dataset\n",
    "data=pd.read_csv('diabetesdataset.csv')\n",
    "data.sample(7)"
   ]
  },
  {
   "cell_type": "markdown",
   "id": "1980ea7a",
   "metadata": {},
   "source": [
    "## Data Analysis"
   ]
  },
  {
   "cell_type": "code",
   "execution_count": 3,
   "id": "eb291152",
   "metadata": {},
   "outputs": [
    {
     "name": "stdout",
     "output_type": "stream",
     "text": [
      "Number Of Rows 768\n",
      "Number Of Columns 10\n"
     ]
    },
    {
     "data": {
      "text/plain": [
       "(768, 10)"
      ]
     },
     "execution_count": 3,
     "metadata": {},
     "output_type": "execute_result"
    }
   ],
   "source": [
    "print(\"Number Of Rows\",data.shape[0])\n",
    "print(\"Number Of Columns\",data.shape[1])\n",
    "data.shape"
   ]
  },
  {
   "cell_type": "code",
   "execution_count": 4,
   "id": "36880421",
   "metadata": {},
   "outputs": [
    {
     "data": {
      "text/html": [
       "<div>\n",
       "<style scoped>\n",
       "    .dataframe tbody tr th:only-of-type {\n",
       "        vertical-align: middle;\n",
       "    }\n",
       "\n",
       "    .dataframe tbody tr th {\n",
       "        vertical-align: top;\n",
       "    }\n",
       "\n",
       "    .dataframe thead th {\n",
       "        text-align: right;\n",
       "    }\n",
       "</style>\n",
       "<table border=\"1\" class=\"dataframe\">\n",
       "  <thead>\n",
       "    <tr style=\"text-align: right;\">\n",
       "      <th></th>\n",
       "      <th>Unnamed: 0</th>\n",
       "      <th>Pregnancies</th>\n",
       "      <th>Glucose</th>\n",
       "      <th>BloodPressure</th>\n",
       "      <th>SkinThickness</th>\n",
       "      <th>Insulin</th>\n",
       "      <th>BMI</th>\n",
       "      <th>DiabetesPedigreeFunction</th>\n",
       "      <th>Age</th>\n",
       "      <th>Outcome</th>\n",
       "    </tr>\n",
       "  </thead>\n",
       "  <tbody>\n",
       "    <tr>\n",
       "      <th>Unnamed: 0</th>\n",
       "      <td>1.00</td>\n",
       "      <td>-0.04</td>\n",
       "      <td>0.01</td>\n",
       "      <td>0.02</td>\n",
       "      <td>0.02</td>\n",
       "      <td>0.00</td>\n",
       "      <td>0.01</td>\n",
       "      <td>-0.04</td>\n",
       "      <td>0.01</td>\n",
       "      <td>-0.05</td>\n",
       "    </tr>\n",
       "    <tr>\n",
       "      <th>Pregnancies</th>\n",
       "      <td>-0.04</td>\n",
       "      <td>1.00</td>\n",
       "      <td>0.13</td>\n",
       "      <td>0.14</td>\n",
       "      <td>-0.08</td>\n",
       "      <td>-0.07</td>\n",
       "      <td>0.02</td>\n",
       "      <td>-0.03</td>\n",
       "      <td>0.54</td>\n",
       "      <td>0.22</td>\n",
       "    </tr>\n",
       "    <tr>\n",
       "      <th>Glucose</th>\n",
       "      <td>0.01</td>\n",
       "      <td>0.13</td>\n",
       "      <td>1.00</td>\n",
       "      <td>0.15</td>\n",
       "      <td>0.06</td>\n",
       "      <td>0.33</td>\n",
       "      <td>0.22</td>\n",
       "      <td>0.14</td>\n",
       "      <td>0.26</td>\n",
       "      <td>0.47</td>\n",
       "    </tr>\n",
       "    <tr>\n",
       "      <th>BloodPressure</th>\n",
       "      <td>0.02</td>\n",
       "      <td>0.14</td>\n",
       "      <td>0.15</td>\n",
       "      <td>1.00</td>\n",
       "      <td>0.21</td>\n",
       "      <td>0.09</td>\n",
       "      <td>0.28</td>\n",
       "      <td>0.04</td>\n",
       "      <td>0.24</td>\n",
       "      <td>0.07</td>\n",
       "    </tr>\n",
       "    <tr>\n",
       "      <th>SkinThickness</th>\n",
       "      <td>0.02</td>\n",
       "      <td>-0.08</td>\n",
       "      <td>0.06</td>\n",
       "      <td>0.21</td>\n",
       "      <td>1.00</td>\n",
       "      <td>0.44</td>\n",
       "      <td>0.39</td>\n",
       "      <td>0.18</td>\n",
       "      <td>-0.11</td>\n",
       "      <td>0.07</td>\n",
       "    </tr>\n",
       "    <tr>\n",
       "      <th>Insulin</th>\n",
       "      <td>0.00</td>\n",
       "      <td>-0.07</td>\n",
       "      <td>0.33</td>\n",
       "      <td>0.09</td>\n",
       "      <td>0.44</td>\n",
       "      <td>1.00</td>\n",
       "      <td>0.20</td>\n",
       "      <td>0.19</td>\n",
       "      <td>-0.04</td>\n",
       "      <td>0.13</td>\n",
       "    </tr>\n",
       "    <tr>\n",
       "      <th>BMI</th>\n",
       "      <td>0.01</td>\n",
       "      <td>0.02</td>\n",
       "      <td>0.22</td>\n",
       "      <td>0.28</td>\n",
       "      <td>0.39</td>\n",
       "      <td>0.20</td>\n",
       "      <td>1.00</td>\n",
       "      <td>0.14</td>\n",
       "      <td>0.04</td>\n",
       "      <td>0.29</td>\n",
       "    </tr>\n",
       "    <tr>\n",
       "      <th>DiabetesPedigreeFunction</th>\n",
       "      <td>-0.04</td>\n",
       "      <td>-0.03</td>\n",
       "      <td>0.14</td>\n",
       "      <td>0.04</td>\n",
       "      <td>0.18</td>\n",
       "      <td>0.19</td>\n",
       "      <td>0.14</td>\n",
       "      <td>1.00</td>\n",
       "      <td>0.03</td>\n",
       "      <td>0.17</td>\n",
       "    </tr>\n",
       "    <tr>\n",
       "      <th>Age</th>\n",
       "      <td>0.01</td>\n",
       "      <td>0.54</td>\n",
       "      <td>0.26</td>\n",
       "      <td>0.24</td>\n",
       "      <td>-0.11</td>\n",
       "      <td>-0.04</td>\n",
       "      <td>0.04</td>\n",
       "      <td>0.03</td>\n",
       "      <td>1.00</td>\n",
       "      <td>0.24</td>\n",
       "    </tr>\n",
       "    <tr>\n",
       "      <th>Outcome</th>\n",
       "      <td>-0.05</td>\n",
       "      <td>0.22</td>\n",
       "      <td>0.47</td>\n",
       "      <td>0.07</td>\n",
       "      <td>0.07</td>\n",
       "      <td>0.13</td>\n",
       "      <td>0.29</td>\n",
       "      <td>0.17</td>\n",
       "      <td>0.24</td>\n",
       "      <td>1.00</td>\n",
       "    </tr>\n",
       "  </tbody>\n",
       "</table>\n",
       "</div>"
      ],
      "text/plain": [
       "                          Unnamed: 0  Pregnancies  Glucose  BloodPressure  \\\n",
       "Unnamed: 0                      1.00        -0.04     0.01           0.02   \n",
       "Pregnancies                    -0.04         1.00     0.13           0.14   \n",
       "Glucose                         0.01         0.13     1.00           0.15   \n",
       "BloodPressure                   0.02         0.14     0.15           1.00   \n",
       "SkinThickness                   0.02        -0.08     0.06           0.21   \n",
       "Insulin                         0.00        -0.07     0.33           0.09   \n",
       "BMI                             0.01         0.02     0.22           0.28   \n",
       "DiabetesPedigreeFunction       -0.04        -0.03     0.14           0.04   \n",
       "Age                             0.01         0.54     0.26           0.24   \n",
       "Outcome                        -0.05         0.22     0.47           0.07   \n",
       "\n",
       "                          SkinThickness  Insulin  BMI  \\\n",
       "Unnamed: 0                         0.02     0.00 0.01   \n",
       "Pregnancies                       -0.08    -0.07 0.02   \n",
       "Glucose                            0.06     0.33 0.22   \n",
       "BloodPressure                      0.21     0.09 0.28   \n",
       "SkinThickness                      1.00     0.44 0.39   \n",
       "Insulin                            0.44     1.00 0.20   \n",
       "BMI                                0.39     0.20 1.00   \n",
       "DiabetesPedigreeFunction           0.18     0.19 0.14   \n",
       "Age                               -0.11    -0.04 0.04   \n",
       "Outcome                            0.07     0.13 0.29   \n",
       "\n",
       "                          DiabetesPedigreeFunction   Age  Outcome  \n",
       "Unnamed: 0                                   -0.04  0.01    -0.05  \n",
       "Pregnancies                                  -0.03  0.54     0.22  \n",
       "Glucose                                       0.14  0.26     0.47  \n",
       "BloodPressure                                 0.04  0.24     0.07  \n",
       "SkinThickness                                 0.18 -0.11     0.07  \n",
       "Insulin                                       0.19 -0.04     0.13  \n",
       "BMI                                           0.14  0.04     0.29  \n",
       "DiabetesPedigreeFunction                      1.00  0.03     0.17  \n",
       "Age                                           0.03  1.00     0.24  \n",
       "Outcome                                       0.17  0.24     1.00  "
      ]
     },
     "execution_count": 4,
     "metadata": {},
     "output_type": "execute_result"
    }
   ],
   "source": [
    "data.corr()"
   ]
  },
  {
   "cell_type": "code",
   "execution_count": 5,
   "id": "402b0089-2208-42b5-81a6-46bcfb69056f",
   "metadata": {},
   "outputs": [],
   "source": [
    "data.drop(['Unnamed: 0', 'BloodPressure', 'SkinThickness'], axis=1, inplace=True)"
   ]
  },
  {
   "cell_type": "markdown",
   "id": "7be25f3f",
   "metadata": {},
   "source": [
    "#### Now check the behaviour of the data outliers present or Not"
   ]
  },
  {
   "cell_type": "code",
   "execution_count": 6,
   "id": "947d56c3",
   "metadata": {},
   "outputs": [
    {
     "data": {
      "text/plain": [
       "Pregnancies                 0.12\n",
       "Glucose                     0.02\n",
       "Insulin                     0.30\n",
       "BMI                        -0.06\n",
       "DiabetesPedigreeFunction    0.25\n",
       "Age                         0.15\n",
       "Outcome                     0.08\n",
       "dtype: float64"
      ]
     },
     "execution_count": 6,
     "metadata": {},
     "output_type": "execute_result"
    }
   ],
   "source": [
    "data.skew()/len(data)*100"
   ]
  },
  {
   "cell_type": "code",
   "execution_count": 7,
   "id": "f04a03d1",
   "metadata": {},
   "outputs": [
    {
     "data": {
      "text/plain": [
       "<Axes: >"
      ]
     },
     "execution_count": 7,
     "metadata": {},
     "output_type": "execute_result"
    },
    {
     "data": {
      "image/png": "[encoded data removed]",
      "text/plain": [
       "<Figure size 640x480 with 1 Axes>"
      ]
     },
     "metadata": {},
     "output_type": "display_data"
    }
   ],
   "source": [
    "def iqr_capping(dataset,outlier_col):\n",
    "    name=outlier_col.name\n",
    "    \n",
    "    percentile25 = outlier_col.quantile(0.25)\n",
    "    percentile75 = outlier_col.quantile(0.75)\n",
    "    \n",
    "    iqr = percentile75 - percentile25\n",
    "    \n",
    "    upper_limit = percentile75 + 1.5 * iqr\n",
    "    lower_limit = percentile25 - 1.5 * iqr\n",
    "    \n",
    "    outlier_col = np.where(\n",
    "    outlier_col > upper_limit,\n",
    "    upper_limit,\n",
    "    np.where(\n",
    "        outlier_col < lower_limit,\n",
    "        lower_limit,\n",
    "        outlier_col\n",
    "        )\n",
    "    )\n",
    "    dataset[name] = outlier_col\n",
    "    \n",
    "    return dataset\n",
    "\n",
    "new_data=iqr_capping(data,data['Pregnancies'])\n",
    "new_data=iqr_capping(data,data['Glucose'])\n",
    "# new_data=iqr_capping(data,data['BloodPressure'])\n",
    "# new_data=iqr_capping(data,data['SkinThickness'])\n",
    "new_data=iqr_capping(data,data['Insulin'])\n",
    "new_data=iqr_capping(data,data['BMI'])\n",
    "new_data=iqr_capping(data,data['DiabetesPedigreeFunction'])\n",
    "new_data=iqr_capping(data,data['Age'])\n",
    "sns.boxplot(data=data,orient=\"h\")"
   ]
  },
  {
   "cell_type": "markdown",
   "id": "9fb93d5f",
   "metadata": {},
   "source": [
    "## Standardization"
   ]
  },
  {
   "cell_type": "code",
   "execution_count": 8,
   "id": "419cf4da",
   "metadata": {},
   "outputs": [],
   "source": [
    "# def standardscaler(dataset,List_non_applicable_col):\n",
    "#     X=dataset.drop(List_non_applicable_col,axis=1)\n",
    "\n",
    "#     scaled=StandardScaler()\n",
    "\n",
    "#     scaled.fit(X)\n",
    "\n",
    "#     dataset_scaled=scaled.transform(X)\n",
    "    \n",
    "#     dataframe_transformation = pd.DataFrame(dataset_scaled,columns=X.columns)\n",
    "    \n",
    "#     fig,(ax1,ax2)=plt.subplots(ncols=2,figsize=(12,4))\n",
    "#     ax1.set_title(\"Before Transformation\")\n",
    "#     sns.kdeplot(data=dataset,ax=ax1)\n",
    "#     ax1.set_title(\"After Transformation\")\n",
    "#     sns.kdeplot(data=dataframe_transformation,ax=ax2)\n",
    "#     plt.show()\n",
    "    \n",
    "#     return dataframe_transformation\n",
    "\n",
    "# standardscaler_dataset=standardscaler(data,['Outcome'])\n"
   ]
  },
  {
   "cell_type": "code",
   "execution_count": 9,
   "id": "88540906",
   "metadata": {},
   "outputs": [],
   "source": [
    "# # so here i'm updating the datset which is modify during standardization\n",
    "# data[['Pregnancies', 'Glucose', 'Insulin', 'BMI', 'DiabetesPedigreeFunction', 'Age']]=standardscaler_dataset[[ 'Pregnancies', 'Glucose', 'Insulin', 'BMI', 'DiabetesPedigreeFunction', 'Age']]"
   ]
  },
  {
   "cell_type": "markdown",
   "id": "5e9e7742",
   "metadata": {},
   "source": [
    "# Train-Test-Split"
   ]
  },
  {
   "cell_type": "code",
   "execution_count": 10,
   "id": "05ad728c",
   "metadata": {},
   "outputs": [
    {
     "name": "stdout",
     "output_type": "stream",
     "text": [
      "X Shape (768, 6)\n",
      "Y Shape (768,)\n"
     ]
    }
   ],
   "source": [
    "# Seprate the Input column in X and output save in Y-variable\n",
    "X=data.drop('Outcome',axis=1)\n",
    "y=data['Outcome']\n",
    "print('X Shape',X.shape)\n",
    "print('Y Shape',y.shape)"
   ]
  },
  {
   "cell_type": "code",
   "execution_count": 11,
   "id": "d0e2e1be",
   "metadata": {},
   "outputs": [
    {
     "name": "stdout",
     "output_type": "stream",
     "text": [
      "X_train (537, 6)\n",
      "X_test (231, 6)\n",
      "y_train (537,)\n",
      "y_test (231,)\n"
     ]
    }
   ],
   "source": [
    "# Now Train the Model\n",
    "x_train,x_test,y_train,y_test=train_test_split(X,y,test_size=0.3,random_state=123)\n",
    "print('X_train',x_train.shape)\n",
    "print('X_test',x_test.shape)\n",
    "print('y_train',y_train.shape)\n",
    "print('y_test',y_test.shape)"
   ]
  },
  {
   "cell_type": "code",
   "execution_count": 12,
   "id": "11b8a3c0-f4a4-4fc2-ae24-f479436cc238",
   "metadata": {},
   "outputs": [],
   "source": [
    "# # from sklearn.linear_model import LinearRegression,RidgeClassifier,DecisonTree\n",
    "# from sklearn.tree import DecisionTreeClassifier\n",
    "# from sklearn.naive_bayes import GaussianNB"
   ]
  },
  {
   "cell_type": "code",
   "execution_count": 13,
   "id": "cd8e906c",
   "metadata": {},
   "outputs": [],
   "source": [
    "clf = RidgeClassifier(random_state=0, tol=1e-5)\n",
    "clf.fit(x_train, y_train)\n",
    "y_predict_svc=clf.predict(x_test)"
   ]
  },
  {
   "cell_type": "code",
   "execution_count": 14,
   "id": "4df8382a-d6f6-4dc9-ba8c-ac83c5172fd0",
   "metadata": {},
   "outputs": [
    {
     "data": {
      "text/plain": [
       "0.7965367965367965"
      ]
     },
     "execution_count": 14,
     "metadata": {},
     "output_type": "execute_result"
    }
   ],
   "source": [
    "clf.score(x_test,y_test)"
   ]
  },
  {
   "cell_type": "code",
   "execution_count": 15,
   "id": "430437d5-953a-4aa1-8896-fb41cef4f02e",
   "metadata": {},
   "outputs": [
    {
     "name": "stdout",
     "output_type": "stream",
     "text": [
      "R2 Score: 0.13723776223776185\n",
      "Mean Squared Error (MSE): 0.20346320346320346\n",
      "Mean Absolute Error (MAE): 0.20346320346320346\n"
     ]
    }
   ],
   "source": [
    "predictions = clf.predict(x_test)\n",
    "\n",
    "# Evaluation Metrics\n",
    "r2 = r2_score(y_test, predictions)\n",
    "mse = mean_squared_error(y_test, predictions)\n",
    "mae = mean_absolute_error(y_test, predictions)\n",
    "\n",
    "print(\"R2 Score:\", r2)\n",
    "print(\"Mean Squared Error (MSE):\", mse)\n",
    "print(\"Mean Absolute Error (MAE):\", mae)"
   ]
  },
  {
   "cell_type": "code",
   "execution_count": 16,
   "id": "cab38cb5",
   "metadata": {},
   "outputs": [
    {
     "data": {
      "text/html": [
       "<div>\n",
       "<style scoped>\n",
       "    .dataframe tbody tr th:only-of-type {\n",
       "        vertical-align: middle;\n",
       "    }\n",
       "\n",
       "    .dataframe tbody tr th {\n",
       "        vertical-align: top;\n",
       "    }\n",
       "\n",
       "    .dataframe thead th {\n",
       "        text-align: right;\n",
       "    }\n",
       "</style>\n",
       "<table border=\"1\" class=\"dataframe\">\n",
       "  <thead>\n",
       "    <tr style=\"text-align: right;\">\n",
       "      <th></th>\n",
       "      <th>Actual</th>\n",
       "      <th>Prediction</th>\n",
       "    </tr>\n",
       "  </thead>\n",
       "  <tbody>\n",
       "    <tr>\n",
       "      <th>483</th>\n",
       "      <td>0</td>\n",
       "      <td>0</td>\n",
       "    </tr>\n",
       "    <tr>\n",
       "      <th>279</th>\n",
       "      <td>0</td>\n",
       "      <td>0</td>\n",
       "    </tr>\n",
       "    <tr>\n",
       "      <th>593</th>\n",
       "      <td>0</td>\n",
       "      <td>0</td>\n",
       "    </tr>\n",
       "    <tr>\n",
       "      <th>681</th>\n",
       "      <td>1</td>\n",
       "      <td>1</td>\n",
       "    </tr>\n",
       "    <tr>\n",
       "      <th>254</th>\n",
       "      <td>1</td>\n",
       "      <td>0</td>\n",
       "    </tr>\n",
       "  </tbody>\n",
       "</table>\n",
       "</div>"
      ],
      "text/plain": [
       "     Actual  Prediction\n",
       "483       0           0\n",
       "279       0           0\n",
       "593       0           0\n",
       "681       1           1\n",
       "254       1           0"
      ]
     },
     "execution_count": 16,
     "metadata": {},
     "output_type": "execute_result"
    }
   ],
   "source": [
    "comparing_data=pd.DataFrame({\"Actual\":y_test,\"Prediction\":y_predict_svc})\n",
    "comparing_data.sample(5)"
   ]
  },
  {
   "cell_type": "code",
   "execution_count": 17,
   "id": "65a00980",
   "metadata": {},
   "outputs": [
    {
     "data": {
      "image/png": "[encoded data removed]",
      "text/plain": [
       "<Figure size 640x480 with 1 Axes>"
      ]
     },
     "metadata": {},
     "output_type": "display_data"
    }
   ],
   "source": [
    "sns.kdeplot(data=comparing_data)\n",
    "plt.show()"
   ]
  },
  {
   "cell_type": "code",
   "execution_count": 18,
   "id": "82dfdc34-b5b0-4c47-9319-a98c84bb0f7d",
   "metadata": {},
   "outputs": [],
   "source": [
    "import pickle"
   ]
  },
  {
   "cell_type": "code",
   "execution_count": 22,
   "id": "68b2d613-dd06-46d8-8913-1ebacc3a645f",
   "metadata": {},
   "outputs": [],
   "source": [
    "pickle.dump(clf,open(\"diabetes.pkl\",(\"wb\")))"
   ]
  },
  {
   "cell_type": "code",
   "execution_count": 23,
   "id": "a6c95490-b51f-48d5-9d97-82479fd47a38",
   "metadata": {},
   "outputs": [],
   "source": [
    "model=pickle.load(open(\"diabetes.pkl\",\"rb\"))"
   ]
  },
  {
   "cell_type": "code",
   "execution_count": 26,
   "id": "a00e6cf0-dca1-4a0e-85e7-a4e630365f1f",
   "metadata": {},
   "outputs": [
    {
     "data": {
      "text/plain": [
       "0.7690875232774674"
      ]
     },
     "execution_count": 26,
     "metadata": {},
     "output_type": "execute_result"
    }
   ],
   "source": [
    "model.score(x_train,y_train)"
   ]
  },
  {
   "cell_type": "code",
   "execution_count": 28,
   "id": "8cef5bdb-3a65-4d50-b040-2d612defbc61",
   "metadata": {},
   "outputs": [
    {
     "data": {
      "text/html": [
       "<div>\n",
       "<style scoped>\n",
       "    .dataframe tbody tr th:only-of-type {\n",
       "        vertical-align: middle;\n",
       "    }\n",
       "\n",
       "    .dataframe tbody tr th {\n",
       "        vertical-align: top;\n",
       "    }\n",
       "\n",
       "    .dataframe thead th {\n",
       "        text-align: right;\n",
       "    }\n",
       "</style>\n",
       "<table border=\"1\" class=\"dataframe\">\n",
       "  <thead>\n",
       "    <tr style=\"text-align: right;\">\n",
       "      <th></th>\n",
       "      <th>Pregnancies</th>\n",
       "      <th>Glucose</th>\n",
       "      <th>Insulin</th>\n",
       "      <th>BMI</th>\n",
       "      <th>DiabetesPedigreeFunction</th>\n",
       "      <th>Age</th>\n",
       "      <th>Outcome</th>\n",
       "    </tr>\n",
       "  </thead>\n",
       "  <tbody>\n",
       "    <tr>\n",
       "      <th>count</th>\n",
       "      <td>768.00</td>\n",
       "      <td>768.00</td>\n",
       "      <td>768.00</td>\n",
       "      <td>768.00</td>\n",
       "      <td>768.00</td>\n",
       "      <td>768.00</td>\n",
       "      <td>768.00</td>\n",
       "    </tr>\n",
       "    <tr>\n",
       "      <th>mean</th>\n",
       "      <td>3.84</td>\n",
       "      <td>121.14</td>\n",
       "      <td>73.65</td>\n",
       "      <td>32.13</td>\n",
       "      <td>0.46</td>\n",
       "      <td>33.20</td>\n",
       "      <td>0.35</td>\n",
       "    </tr>\n",
       "    <tr>\n",
       "      <th>std</th>\n",
       "      <td>3.34</td>\n",
       "      <td>31.19</td>\n",
       "      <td>93.58</td>\n",
       "      <td>7.05</td>\n",
       "      <td>0.29</td>\n",
       "      <td>11.63</td>\n",
       "      <td>0.48</td>\n",
       "    </tr>\n",
       "    <tr>\n",
       "      <th>min</th>\n",
       "      <td>0.00</td>\n",
       "      <td>37.12</td>\n",
       "      <td>0.00</td>\n",
       "      <td>13.35</td>\n",
       "      <td>0.08</td>\n",
       "      <td>21.00</td>\n",
       "      <td>0.00</td>\n",
       "    </tr>\n",
       "    <tr>\n",
       "      <th>25%</th>\n",
       "      <td>1.00</td>\n",
       "      <td>99.00</td>\n",
       "      <td>0.00</td>\n",
       "      <td>27.30</td>\n",
       "      <td>0.24</td>\n",
       "      <td>24.00</td>\n",
       "      <td>0.00</td>\n",
       "    </tr>\n",
       "    <tr>\n",
       "      <th>50%</th>\n",
       "      <td>3.00</td>\n",
       "      <td>117.00</td>\n",
       "      <td>30.50</td>\n",
       "      <td>32.00</td>\n",
       "      <td>0.37</td>\n",
       "      <td>29.00</td>\n",
       "      <td>0.00</td>\n",
       "    </tr>\n",
       "    <tr>\n",
       "      <th>75%</th>\n",
       "      <td>6.00</td>\n",
       "      <td>140.25</td>\n",
       "      <td>127.25</td>\n",
       "      <td>36.60</td>\n",
       "      <td>0.63</td>\n",
       "      <td>41.00</td>\n",
       "      <td>1.00</td>\n",
       "    </tr>\n",
       "    <tr>\n",
       "      <th>max</th>\n",
       "      <td>13.50</td>\n",
       "      <td>199.00</td>\n",
       "      <td>318.12</td>\n",
       "      <td>50.55</td>\n",
       "      <td>1.20</td>\n",
       "      <td>66.50</td>\n",
       "      <td>1.00</td>\n",
       "    </tr>\n",
       "  </tbody>\n",
       "</table>\n",
       "</div>"
      ],
      "text/plain": [
       "       Pregnancies  Glucose  Insulin    BMI  DiabetesPedigreeFunction    Age  \\\n",
       "count       768.00   768.00   768.00 768.00                    768.00 768.00   \n",
       "mean          3.84   121.14    73.65  32.13                      0.46  33.20   \n",
       "std           3.34    31.19    93.58   7.05                      0.29  11.63   \n",
       "min           0.00    37.12     0.00  13.35                      0.08  21.00   \n",
       "25%           1.00    99.00     0.00  27.30                      0.24  24.00   \n",
       "50%           3.00   117.00    30.50  32.00                      0.37  29.00   \n",
       "75%           6.00   140.25   127.25  36.60                      0.63  41.00   \n",
       "max          13.50   199.00   318.12  50.55                      1.20  66.50   \n",
       "\n",
       "       Outcome  \n",
       "count   768.00  \n",
       "mean      0.35  \n",
       "std       0.48  \n",
       "min       0.00  \n",
       "25%       0.00  \n",
       "50%       0.00  \n",
       "75%       1.00  \n",
       "max       1.00  "
      ]
     },
     "execution_count": 28,
     "metadata": {},
     "output_type": "execute_result"
    }
   ],
   "source": [
    "data.describe()"
   ]
  },
  {
   "cell_type": "code",
   "execution_count": 27,
   "id": "d5acfdb1-ea54-4a93-a68e-f209667a0e84",
   "metadata": {},
   "outputs": [
    {
     "data": {
      "text/html": [
       "<div>\n",
       "<style scoped>\n",
       "    .dataframe tbody tr th:only-of-type {\n",
       "        vertical-align: middle;\n",
       "    }\n",
       "\n",
       "    .dataframe tbody tr th {\n",
       "        vertical-align: top;\n",
       "    }\n",
       "\n",
       "    .dataframe thead th {\n",
       "        text-align: right;\n",
       "    }\n",
       "</style>\n",
       "<table border=\"1\" class=\"dataframe\">\n",
       "  <thead>\n",
       "    <tr style=\"text-align: right;\">\n",
       "      <th></th>\n",
       "      <th>Pregnancies</th>\n",
       "      <th>Glucose</th>\n",
       "      <th>Insulin</th>\n",
       "      <th>BMI</th>\n",
       "      <th>DiabetesPedigreeFunction</th>\n",
       "      <th>Age</th>\n",
       "      <th>Outcome</th>\n",
       "    </tr>\n",
       "  </thead>\n",
       "  <tbody>\n",
       "    <tr>\n",
       "      <th>8</th>\n",
       "      <td>2.00</td>\n",
       "      <td>197.00</td>\n",
       "      <td>318.12</td>\n",
       "      <td>30.50</td>\n",
       "      <td>0.16</td>\n",
       "      <td>53.00</td>\n",
       "      <td>1</td>\n",
       "    </tr>\n",
       "  </tbody>\n",
       "</table>\n",
       "</div>"
      ],
      "text/plain": [
       "   Pregnancies  Glucose  Insulin   BMI  DiabetesPedigreeFunction   Age  \\\n",
       "8         2.00   197.00   318.12 30.50                      0.16 53.00   \n",
       "\n",
       "   Outcome  \n",
       "8        1  "
      ]
     },
     "execution_count": 27,
     "metadata": {},
     "output_type": "execute_result"
    }
   ],
   "source": [
    "data.sample(1)"
   ]
  },
  {
   "cell_type": "code",
   "execution_count": 32,
   "id": "84acfc79-567a-4e05-a5b8-1b3e5343bd3a",
   "metadata": {},
   "outputs": [],
   "source": [
    "# pregnancies experienced by a person\n",
    "# Gluscose level\n",
    "# insulin levels\n",
    "# 'BMI' column stands for Body Mass Index, a measure derived from an individual's weight and height\n",
    "# GeneticDiabetesScore"
   ]
  },
  {
   "cell_type": "code",
   "execution_count": 38,
   "id": "d7e0f157-ded7-4eaa-9c40-5132db09cf29",
   "metadata": {},
   "outputs": [
    {
     "name": "stdin",
     "output_type": "stream",
     "text": [
      "How many Pregnancies experience do you have:  2\n",
      "What is your Glucose Level:  197\n",
      "What is your Insulin Level:  318\n",
      "What is your Height:  30\n",
      "What is your GeneticDiabetesScore:  0.16\n",
      "What is your Age:  53\n"
     ]
    },
    {
     "name": "stdout",
     "output_type": "stream",
     "text": [
      "[1]\n",
      "[1]\n"
     ]
    }
   ],
   "source": [
    "Pregnancies=float(input(\"How many Pregnancies experience do you have: \"))\n",
    "Glucose=float(input(\"What is your Glucose Level: \"))\n",
    "Insulin=float(input(\"What is your Insulin Level: \"))\n",
    "# weight=input(\"What is your Weight: \")\n",
    "# Height=input(\"What is your Height: \")\n",
    "BMI=float(input(\"What is your Height: \") )#weight/(Height)**2\n",
    "DiabetesPedigreeFunction=float(input(\"What is your GeneticDiabetesScore: \"))\n",
    "Age=float(input(\"What is your Age: \"))\n",
    "\n",
    "outcome=np.array([[Pregnancies,Glucose,Insulin,BMI,DiabetesPedigreeFunction,Age]])\n",
    "\n",
    "print(model.predict(outcome))\n",
    "print(clf.predict(outcome))"
   ]
  },
  {
   "cell_type": "code",
   "execution_count": 40,
   "id": "81b5edf5-c8d7-4016-8197-e8861a6ef722",
   "metadata": {},
   "outputs": [
    {
     "data": {
      "text/plain": [
       "Outcome\n",
       "0    500\n",
       "1    268\n",
       "Name: count, dtype: int64"
      ]
     },
     "execution_count": 40,
     "metadata": {},
     "output_type": "execute_result"
    }
   ],
   "source": [
    "data['Outcome'].value_counts()"
   ]
  },
  {
   "cell_type": "code",
   "execution_count": null,
   "id": "0da85dc7-a901-4173-826b-e4570eceda47",
   "metadata": {},
   "outputs": [],
   "source": []
  }
 ],
 "metadata": {
  "kernelspec": {
   "display_name": "Python 3 (ipykernel)",
   "language": "python",
   "name": "python3"
  },
  "language_info": {
   "codemirror_mode": {
    "name": "ipython",
    "version": 3
   },
   "file_extension": ".py",
   "mimetype": "text/x-python",
   "name": "python",
   "nbconvert_exporter": "python",
   "pygments_lexer": "ipython3",
   "version": "3.11.5"
  }
 },
 "nbformat": 4,
 "nbformat_minor": 5
}
